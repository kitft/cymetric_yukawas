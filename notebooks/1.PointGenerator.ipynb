{
 "cells": [
  {
   "cell_type": "markdown",
   "metadata": {},
   "source": [
    "# Exploring the Point Generators\n",
    "\n",
    "In this notebook we explore the three different point generator classes.\n",
    "\n",
    "1. The *PointGenerator* class is the base class the other two inherit from. It can be used for Complete Intersection Calabi-Yau (CICY) manifolds with a single hypersurface, e.g. the quintic, bicubic, p1p3, the tetraquadric, or a torus, some K3s ...\n",
    "2. There is the *CICYPointGenerator* which works for any CICY.\n",
    "3. There is the *PointGeneratorMathematica* which works for any CICY (also for just a single hypersurface. It requires a Mathematica installation which will be used as a backend for the computations.\n",
    "4. There is the *ToricPointGenerator* which can generate points on any CY coming from the Kreuzer-Skarke list. NOTE: as of v0.0.1 there are still some issues with finding the correct integration weights from generalizing a theorem by Shiffman and Zelditch. For the correct implementation use *ToricPointGeneratorMathematica*.\n",
    "\n",
    "The Fermat quintic manifold can be implemented in each of the three PointGenerator classes and will be used as an example.\n",
    "\n",
    "Recall that the Fermat quintic is given by the following polynomial:\n",
    "\n",
    "$$\n",
    "Q = \\sum_i^5 z_i^5\n",
    "$$\n",
    "\n",
    "in a $\\mathbb{P}^4$ ambient space."
   ]
  },
  {
   "cell_type": "code",
   "execution_count": 1,
   "metadata": {
    "scrolled": true
   },
   "outputs": [],
   "source": [
    "import numpy as np\n",
    "import os as os\n",
    "import pickle as pickle"
   ]
  },
  {
   "cell_type": "markdown",
   "metadata": {},
   "source": [
    "## PointGenerator\n",
    "\n",
    "First we load the PointGenerator from the cymetric package."
   ]
  },
  {
   "cell_type": "code",
   "execution_count": 2,
   "metadata": {},
   "outputs": [],
   "source": [
    "from cymetric.pointgen.pointgen import PointGenerator"
   ]
  },
  {
   "cell_type": "markdown",
   "metadata": {},
   "source": [
    "In general all routines and classes of the cymetric package will have a brief description of their functionality and their arguments. You can access it with the help function."
   ]
  },
  {
   "cell_type": "code",
   "execution_count": 3,
   "metadata": {
    "scrolled": true
   },
   "outputs": [
    {
     "name": "stdout",
     "output_type": "stream",
     "text": [
      "Help on class PointGenerator in module cymetric.pointgen.pointgen:\n",
      "\n",
      "class PointGenerator(builtins.object)\n",
      " |  PointGenerator(monomials, coefficients, kmoduli, ambient, vol_j_norm=None, verbose=2, backend='multiprocessing')\n",
      " |  \n",
      " |  The PointGenerator class.\n",
      " |  \n",
      " |  The numerics are entirely done in numpy; sympy is used for taking \n",
      " |  (implicit) derivatives.\n",
      " |  \n",
      " |  Use this one if you want to generate points and data on a CY given by\n",
      " |  one hypersurface.\n",
      " |  \n",
      " |  All other PointGenerators inherit from this class.\n",
      " |  \n",
      " |  Example:\n",
      " |      We consider the Fermat quintic given by\n",
      " |  \n",
      " |      .. math::\n",
      " |  \n",
      " |          Q(z) = z_1^5 + z_2^5 + z_3^5 + z_4^5 + z_5^5\n",
      " |  \n",
      " |      and set it up with:\n",
      " |  \n",
      " |      >>> import numpy as np\n",
      " |      >>> from cymetric.pointgen.pointgen import PointGenerator\n",
      " |      >>> monomials = 5*np.eye(5, dtype=np.int)\n",
      " |      >>> coefficients = np.ones(5)\n",
      " |      >>> kmoduli = np.ones(1)\n",
      " |      >>> ambient = np.array([4])\n",
      " |      >>> pg = PointGenerator(monomials, coefficients, kmoduli, ambient)\n",
      " |  \n",
      " |      Once the PointGenerator is initialized you can generate a training\n",
      " |      dataset with \n",
      " |  \n",
      " |      >>> pg.prepare_dataset(number_of_points, dir_name) \n",
      " |  \n",
      " |      and prepare the required tensorflow model data with \n",
      " |      \n",
      " |      >>> pg.prepare_basis(dir_name)\n",
      " |  \n",
      " |  Methods defined here:\n",
      " |  \n",
      " |  __call__(self, points, vol_js=None)\n",
      " |      Computes the FS metric at each point.\n",
      " |      \n",
      " |      Args:\n",
      " |          points (ndarray[(n_p, ncoords), np.complex128]): Points.\n",
      " |          vol_js (ndarray[(h^{(1,1)}), np.complex128]): vol_j factors. \n",
      " |              Defaults to None.\n",
      " |      \n",
      " |      Returns:\n",
      " |          ndarray[(n_p, ncoords, ncoords), np.complex128]: g^FS\n",
      " |  \n",
      " |  __init__(self, monomials, coefficients, kmoduli, ambient, vol_j_norm=None, verbose=2, backend='multiprocessing')\n",
      " |      The PointGenerator uses the *joblib* module to parallelize \n",
      " |      computations. \n",
      " |      \n",
      " |      Args:\n",
      " |          monomials (ndarray[(nMonomials, ncoords), np.int]): monomials\n",
      " |          coefficients (ndarray[(nMonomials)]): coefficients in front of each\n",
      " |              monomial.\n",
      " |          kmoduli (ndarray[(nProj)]): the kaehler moduli.\n",
      " |          ambient (ndarray[(nProj), np.int]): the direct product of projective\n",
      " |              spaces making up the ambient space.\n",
      " |          vol_j_norm (float, optional): Normalization of the volume of the\n",
      " |              Calabi-Yau X as computed from\n",
      " |      \n",
      " |              .. math:: \\int_X J^n \\; \\text{ at } \\; t_1=t_2=...=t_n = 1.\n",
      " |      \n",
      " |              Defaults to None, in which case the normalization will be computed automatically from the intersection numbers.\n",
      " |          verbose (int, optional): Controls logging. 1-Debug, 2-Info,\n",
      " |              else Warning. Defaults to 2.\n",
      " |          backend (str, optional): Backend for Parallel. Defaults to\n",
      " |              'multiprocessing'. 'loky' makes issues with pickle5.\n",
      " |  \n",
      " |  compute_kappa(self, points, weights, omegas)\n",
      " |      We compute kappa from the Monge-Ampère equation\n",
      " |      \n",
      " |      .. math:: J^3 = \\kappa |\\Omega|^2\n",
      " |      \n",
      " |      such that after integrating we find\n",
      " |      \n",
      " |      .. math::\n",
      " |      \n",
      " |          \\kappa = \\frac{J^3}{|\\Omega|^2} =\n",
      " |              \\frac{\\text{Vol}_K}{\\text{Vol}_{\\text{CY}}}\n",
      " |      \n",
      " |      Args:\n",
      " |          points (ndarray[(n_p, ncoords), np.complex128]): Points.\n",
      " |          weights (ndarray[n_p, np.float64]): weights of the points.\n",
      " |          omegas (ndarray[n_p, np.complex128]): Omega \\wedge Omega* of the points.\n",
      " |      \n",
      " |      Returns:\n",
      " |          np.float: kappa\n",
      " |  \n",
      " |  cy_condition(self, points)\n",
      " |      Computes the CY condition at each point.\n",
      " |      \n",
      " |      Args:\n",
      " |          points (ndarray([n_p, ncoords], np.complex128)): Points (on the CY).\n",
      " |      \n",
      " |      Returns:\n",
      " |          ndarray(n_p, np.complex128): CY condition\n",
      " |  \n",
      " |  fubini_study_metrics(self, points, vol_js=None)\n",
      " |      Computes the FS metric at each point.\n",
      " |      \n",
      " |      Args:\n",
      " |          points (ndarray[(n_p, ncoords), np.complex128]): Points.\n",
      " |          vol_js (ndarray[(h^{(1,1)}), np.complex128]): vol_j factor.\n",
      " |              Defaults to None.\n",
      " |      \n",
      " |      Returns:\n",
      " |          ndarray[(n_p, ncoords, ncoords), np.complex128]: g^FS\n",
      " |  \n",
      " |  generate_point_weights(self, n_pw, omega=False, normalize_to_vol_j=False)\n",
      " |      Generates a numpy dictionary of point weights.\n",
      " |      \n",
      " |      Args:\n",
      " |          n_pw (int): # of point weights.\n",
      " |          omega (bool, optional): If True adds Omega to dict. Defaults to False.\n",
      " |          normalize_to_vol_j (bool, optional): Whether the weights should be normalized by the factor self.vol_j_norm.\n",
      " |                                               Defaults to False\n",
      " |      \n",
      " |      Returns:\n",
      " |          np.dict: point weights\n",
      " |  \n",
      " |  generate_points(self, n_p, nproc=-1, batch_size=5000)\n",
      " |      Generates complex points on the CY.\n",
      " |      \n",
      " |      The points are automatically scaled, such that the largest \n",
      " |      coordinate in each projective space is 1+0.j.\n",
      " |      \n",
      " |      Args:\n",
      " |          n_p (int): # of points.\n",
      " |          nproc (int, optional): # of jobs used. Defaults to -1. Then\n",
      " |              uses all available resources.\n",
      " |          batch_size (int, optional): batch_size of Parallel. \n",
      " |              Defaults to 5000.\n",
      " |      \n",
      " |      Returns:\n",
      " |          ndarray[(n_p, ncoords), np.complex128]: rescaled points\n",
      " |  \n",
      " |  get_volume_from_intersections(self, ts)\n",
      " |  \n",
      " |  holomorphic_volume_form(self, points, j_elim=None)\n",
      " |      We compute the holomorphic volume form\n",
      " |      at all points by solving the residue theorem:\n",
      " |      \n",
      " |      .. math::\n",
      " |      \n",
      " |          \\Omega &= \\int_\\rho \\frac{1}{Q} \\wedge^n dz_i \\\\\n",
      " |                 &= \\frac{1}{\\frac{\\partial Q}{\\partial z_j}}\\wedge^{n-1} dz_a\n",
      " |      \n",
      " |      where the index a runs over the local n-fold good coordinates.\n",
      " |      \n",
      " |      Args:\n",
      " |          points (ndarray[(n_p, ncoords), np.complex128]): Points.\n",
      " |          j_elim (ndarray([n_p], np.int64)): index to be eliminated. \n",
      " |              Defaults not None. If None eliminates max(dQdz).\n",
      " |      \n",
      " |      Returns:\n",
      " |          ndarray[(n_p), np.complex128]: Omega evaluated at each point.\n",
      " |  \n",
      " |  point_weight(self, points, normalize_to_vol_j=False, j_elim=None)\n",
      " |      We compute the weight/mass of each point:\n",
      " |      \n",
      " |      .. math::\n",
      " |      \n",
      " |          w &= \\frac{d\\text{Vol}_\\text{cy}}{dA}|_p \\\\\n",
      " |            &\\sim \\frac{|\\Omega|^2}{\\det(g^\\text{FS}_{ab})}|_p\n",
      " |      \n",
      " |      the weight depends on the distribution of free parameters during \n",
      " |      point sampling. We employ a theorem due to Shiffman and Zelditch. \n",
      " |      See also: [9803052].\n",
      " |      \n",
      " |      Args:\n",
      " |          points (ndarray([n_p, ncoords], np.complex128)): Points.\n",
      " |          normalize_to_vol_j (bool, optional): Normalize such that\n",
      " |      \n",
      " |              .. math::\n",
      " |      \n",
      " |                  \\int_X \\det(g) &= \\sum_i \\sqrt{\\det(g)} \\cdot w|_{x_i}\\\\\n",
      " |                              &= d^{ijk} t_i t_j t_k.\n",
      " |      \n",
      " |              Defaults to False.\n",
      " |          j_elim (ndarray([n_p, nhyper], np.int64)): Index to be eliminated. \n",
      " |              Defaults to None. If None eliminates max(dQdz).\n",
      " |      \n",
      " |      Returns:\n",
      " |          ndarray([n_p], np.float64): weight at each point.\n",
      " |  \n",
      " |  prepare_basis(self, dirname, kappa=1.0)\n",
      " |      Prepares pickled monomial basis for the tensorflow models.\n",
      " |      \n",
      " |      Args:\n",
      " |          dirname (str): dir name to save\n",
      " |      \n",
      " |      Returns:\n",
      " |          int: 0\n",
      " |  \n",
      " |  prepare_dataset(self, n_p, dirname, val_split=0.1, ltails=0, rtails=0)\n",
      " |      Prepares training and validation data.\n",
      " |      \n",
      " |      Args:\n",
      " |          n_p (int): Number of points to generate.\n",
      " |          dirname (str): Directory name to save dataset in.\n",
      " |          val_split (float, optional): train-val split. Defaults to 0.1.\n",
      " |          ltails (float, optional): Percentage discarded on the left tail\n",
      " |              of weight distribution. Defaults to 0.\n",
      " |          rtails (float, optional): Percentage discarded on the right tail\n",
      " |              of weight distribution. Defaults to 0.\n",
      " |      \n",
      " |      Returns:\n",
      " |          np.float: kappa = vol_k / vol_cy\n",
      " |  \n",
      " |  pullbacks(self, points, j_elim=None)\n",
      " |      Computes the pullback from ambient space to local CY coordinates\n",
      " |      at each point. \n",
      " |      \n",
      " |      Denote the ambient space coordinates with z_i and the CY\n",
      " |      coordinates with x_a then\n",
      " |      \n",
      " |      .. math::\n",
      " |      \n",
      " |          J^i_a = \\frac{dz_i}{dx_a}\n",
      " |      \n",
      " |      Args:\n",
      " |          points (ndarray([n_p, ncoords], np.complex128)): Points.\n",
      " |          j_elim (ndarray([n_p, nhyper], np.int64)): Index to be eliminated. \n",
      " |              Defaults to None. If None eliminates max(dQdz).\n",
      " |      \n",
      " |      Returns:\n",
      " |          ndarray([n_p, nfold, ncoords], np.complex128): Pullback tensor \n",
      " |              at each point.\n",
      " |  \n",
      " |  ----------------------------------------------------------------------\n",
      " |  Static methods defined here:\n",
      " |  \n",
      " |  generate_pn_points(n_p, n)\n",
      " |      Generates points on the sphere :math:`S^{2n+1}`.\n",
      " |      \n",
      " |      Args:\n",
      " |          n_p (int): number of points.\n",
      " |          n (int): degree of projective space.\n",
      " |      \n",
      " |      Returns:\n",
      " |          ndarray[(np, n+1), np.complex128]: complex points\n",
      " |  \n",
      " |  ----------------------------------------------------------------------\n",
      " |  Data descriptors defined here:\n",
      " |  \n",
      " |  __dict__\n",
      " |      dictionary for instance variables (if defined)\n",
      " |  \n",
      " |  __weakref__\n",
      " |      list of weak references to the object (if defined)\n",
      "\n"
     ]
    }
   ],
   "source": [
    "help(PointGenerator)"
   ]
  },
  {
   "cell_type": "markdown",
   "metadata": {},
   "source": [
    "In the next step we define the five defining monomials, the coefficients in front of each monomial, the single Kähler moduli, and the ambient space projective factor(s):"
   ]
  },
  {
   "cell_type": "code",
   "execution_count": 3,
   "metadata": {},
   "outputs": [],
   "source": [
    "monomials = 5*np.eye(5, dtype=np.int64)\n",
    "coefficients = np.ones(5)\n",
    "kmoduli = np.ones(1)\n",
    "ambient = np.array([4])"
   ]
  },
  {
   "cell_type": "markdown",
   "metadata": {},
   "source": [
    "We can now initiate the PointGenerator"
   ]
  },
  {
   "cell_type": "code",
   "execution_count": 5,
   "metadata": {},
   "outputs": [],
   "source": [
    "pg = PointGenerator(monomials, coefficients, kmoduli, ambient)"
   ]
  },
  {
   "cell_type": "markdown",
   "metadata": {},
   "source": [
    "and generate some (100) points:"
   ]
  },
  {
   "cell_type": "code",
   "execution_count": 6,
   "metadata": {},
   "outputs": [
    {
     "data": {
      "text/plain": [
       "array([[-0.26571881-9.17297455e-01j, -0.36345359+2.42049070e-01j,\n",
       "         1.        +0.00000000e+00j, -0.59842131-1.43934436e-01j,\n",
       "        -0.35605605-6.91997143e-01j],\n",
       "       [ 1.        -5.55111512e-17j, -0.31804611-5.70832600e-01j,\n",
       "         0.78152219+6.00384439e-01j,  0.15162194-1.69715014e-02j,\n",
       "         0.31991803-3.70442042e-01j],\n",
       "       [ 1.        +2.77555756e-17j, -0.23516908-2.60266458e-01j,\n",
       "        -0.77837294+1.05176966e-01j,  0.81948808-4.76754593e-01j,\n",
       "         0.66788379+2.93563540e-01j],\n",
       "       [ 0.8244501 +5.64605799e-01j, -0.16831985-6.66244130e-01j,\n",
       "         1.        +0.00000000e+00j,  0.28974831+6.27956749e-01j,\n",
       "        -0.05495057-4.40566702e-02j],\n",
       "       [-0.18569486+7.50333720e-01j,  0.24012511-3.46593059e-01j,\n",
       "         1.        +0.00000000e+00j, -0.31459026+8.85538129e-01j,\n",
       "        -0.45377699-5.09986505e-02j],\n",
       "       [-0.62309363+5.81626089e-02j, -0.4679331 +6.79700462e-02j,\n",
       "        -0.54795213-2.22345813e-02j,  1.        +0.00000000e+00j,\n",
       "        -0.96779248-1.11035419e-02j],\n",
       "       [ 0.6151586 +5.02496461e-01j,  0.20277662+2.12125075e-01j,\n",
       "         0.69096857-5.43960610e-01j, -0.21092906-6.76952419e-01j,\n",
       "         1.        +5.55111512e-17j],\n",
       "       [-0.06687156+8.13012725e-01j, -0.12636794+2.35216799e-01j,\n",
       "         1.        +0.00000000e+00j,  0.62081991-4.62641390e-01j,\n",
       "         0.68449549+6.20708350e-01j],\n",
       "       [-0.22088826+5.13983953e-02j, -0.43545847-2.14476486e-02j,\n",
       "        -0.21796997-9.32611797e-01j,  1.        -5.55111512e-17j,\n",
       "        -0.40243005-7.36729788e-01j],\n",
       "       [-0.20427673+4.96789283e-01j, -0.33566951+1.24990126e-02j,\n",
       "         0.79798426-5.87712316e-01j,  1.        -2.77555756e-17j,\n",
       "         0.41420206-1.26898577e-01j],\n",
       "       [ 1.        +5.55111512e-17j,  0.43919275-5.64977454e-01j,\n",
       "        -0.13761318+1.77038138e-01j, -0.99660668-3.84586551e-02j,\n",
       "         0.21556092-2.65341934e-01j],\n",
       "       [-0.23705855-7.92316729e-01j, -0.90831188+1.40218676e-02j,\n",
       "         0.290781  -6.89568624e-02j,  1.        +0.00000000e+00j,\n",
       "        -0.12351025+1.51050214e-01j],\n",
       "       [-0.30869249+9.48795352e-01j,  0.23620423+1.95065591e-01j,\n",
       "        -0.0107252 -4.35292583e-02j,  1.        +0.00000000e+00j,\n",
       "        -0.09747567+3.77996862e-01j],\n",
       "       [ 1.        +2.77555756e-17j, -0.17642877-8.86536198e-01j,\n",
       "         0.15222953+2.33899432e-01j,  0.78858911+4.40597322e-01j,\n",
       "        -0.04064984+1.42153042e-01j],\n",
       "       [ 1.        +0.00000000e+00j, -0.266115  -5.15690274e-01j,\n",
       "         0.14406385+7.18492726e-02j,  0.80697206-5.74602819e-01j,\n",
       "         0.21057851+2.24633474e-01j],\n",
       "       [-0.97642657-1.18281211e-01j, -0.54971234-2.36384054e-01j,\n",
       "         0.39796663-1.14007590e-01j,  1.        +0.00000000e+00j,\n",
       "        -0.47513912-7.89259380e-01j],\n",
       "       [ 0.53683464+1.27315554e-01j,  0.68373074+4.07316659e-01j,\n",
       "        -0.48526102+2.81983742e-01j, -0.95757917-5.13178620e-02j,\n",
       "         1.        +0.00000000e+00j],\n",
       "       [-0.32889758-9.37128594e-01j, -0.26507604-1.99401707e-01j,\n",
       "         0.02728669+5.63371790e-02j,  0.42404338+5.00365959e-01j,\n",
       "         1.        +0.00000000e+00j],\n",
       "       [-0.4493651 -5.90970295e-01j, -0.95829549-1.99839687e-01j,\n",
       "         0.26353682-4.79926875e-01j,  1.        +0.00000000e+00j,\n",
       "        -0.16298402+9.36587889e-01j],\n",
       "       [-0.99569717-2.78396736e-02j, -0.55065913+6.80971196e-01j,\n",
       "        -0.25849655-3.04414900e-01j,  0.5760562 -7.12758228e-01j,\n",
       "         1.        +0.00000000e+00j],\n",
       "       [ 0.73673442+5.67735415e-01j, -0.097059  +4.07681716e-01j,\n",
       "        -0.02244561-6.51295915e-01j,  0.58873651-5.56037973e-01j,\n",
       "         1.        +0.00000000e+00j],\n",
       "       [-0.78144599-7.98111059e-02j, -0.18875545-6.32192267e-01j,\n",
       "         1.        -5.55111512e-17j,  0.26845755+3.50870535e-01j,\n",
       "        -0.23301686+8.83778430e-01j],\n",
       "       [ 1.        +0.00000000e+00j,  0.68826221+5.12054052e-01j,\n",
       "        -0.26577308+8.42339749e-01j,  0.27872329+3.66972257e-02j,\n",
       "        -0.16581781-2.47134511e-01j],\n",
       "       [ 0.81742186+5.48932524e-01j,  0.34054565+3.40266796e-01j,\n",
       "         0.54425475+2.94974955e-01j,  1.        +5.55111512e-17j,\n",
       "         0.42912064+5.90618763e-01j],\n",
       "       [ 0.64392447-4.49542253e-01j,  0.53675892-3.34578736e-01j,\n",
       "         1.        +0.00000000e+00j,  0.70007631-5.46623220e-01j,\n",
       "         0.44192776+3.89092924e-01j],\n",
       "       [ 0.7325586 -2.72729312e-01j,  1.        +5.55111512e-17j,\n",
       "        -0.36234071-9.27753282e-01j,  0.09745251-8.14818702e-02j,\n",
       "         0.19448162-2.72829791e-01j],\n",
       "       [ 1.        +0.00000000e+00j,  0.56357791+3.57562922e-01j,\n",
       "         0.75480354-6.35762189e-01j,  0.11799942-2.08311537e-01j,\n",
       "         0.77985807-2.52406213e-01j],\n",
       "       [ 0.54854996-4.93480576e-01j, -0.24528616-1.74349626e-01j,\n",
       "         1.        +0.00000000e+00j, -0.08081971-3.48946233e-01j,\n",
       "         0.79098432-5.43620181e-01j],\n",
       "       [ 0.44305971+5.59495435e-01j,  1.        +5.55111512e-17j,\n",
       "        -0.96557101-4.75265030e-03j,  0.36120762+1.51131017e-01j,\n",
       "        -0.08191766+7.38934131e-01j],\n",
       "       [ 1.        -5.55111512e-17j,  0.80882039-5.20561874e-01j,\n",
       "        -0.29086376+3.35328690e-01j,  0.34175268-2.28749161e-01j,\n",
       "         0.71654674+3.48421590e-01j],\n",
       "       [ 0.81441382+5.00137940e-01j,  1.        +0.00000000e+00j,\n",
       "         0.08576143-5.52528228e-02j, -0.11826938-8.25239069e-01j,\n",
       "         0.02155068+3.21766897e-01j],\n",
       "       [ 0.10082677+1.61157597e-01j,  1.        +0.00000000e+00j,\n",
       "        -0.22721213+5.74180733e-02j,  0.80341571-5.90657096e-01j,\n",
       "        -0.48905059-1.09496936e-01j],\n",
       "       [ 1.        +5.55111512e-17j,  0.26210338-1.56495179e-01j,\n",
       "         0.22285026-2.40620965e-01j, -0.99592849-2.88988378e-02j,\n",
       "         0.63617917+2.30807448e-01j],\n",
       "       [-0.20866856-7.76979226e-01j,  0.83405242-5.37402690e-01j,\n",
       "        -0.5273322 +2.90670530e-02j,  1.        +5.55111512e-17j,\n",
       "        -0.59212281-6.11591141e-01j],\n",
       "       [ 1.        +0.00000000e+00j,  0.80363786+5.65086733e-01j,\n",
       "         0.02885652-4.39383449e-01j, -0.17032154+4.34334375e-01j,\n",
       "         0.53534273-2.98977309e-01j],\n",
       "       [ 0.06655603-4.10864264e-01j,  0.81462189-5.54841368e-01j,\n",
       "        -0.32576318-3.78562410e-01j,  0.48063488-4.97282730e-01j,\n",
       "         1.        +0.00000000e+00j],\n",
       "       [ 0.54402125-3.36163798e-01j,  0.509707  +1.70289306e-01j,\n",
       "        -0.37352695-3.35454839e-01j,  1.        +5.55111512e-17j,\n",
       "         0.79407776+5.82572026e-01j],\n",
       "       [-0.39584024+9.78493266e-02j,  0.8133262 +5.80123414e-01j,\n",
       "         1.        +0.00000000e+00j, -0.5606316 -8.98574670e-02j,\n",
       "        -0.40860911+3.35160029e-01j],\n",
       "       [-0.61390548+2.92339452e-01j,  0.54530134+1.96442151e-01j,\n",
       "         1.        +5.55111512e-17j, -0.99728298-3.71636492e-02j,\n",
       "        -0.63721335+3.76844870e-03j],\n",
       "       [ 0.58945529-3.78602700e-01j, -0.28216589+9.33241502e-01j,\n",
       "        -0.33976698+3.81781947e-01j,  1.        +0.00000000e+00j,\n",
       "         0.19222157+4.36419267e-01j],\n",
       "       [ 0.68253489-4.17999522e-01j, -0.27560337-8.68128276e-01j,\n",
       "        -0.09399871+6.74395643e-01j,  0.06243079+5.25914431e-01j,\n",
       "         1.        +0.00000000e+00j],\n",
       "       [-0.12607175-5.57540213e-01j, -0.98849377+7.30342561e-03j,\n",
       "         0.19004767+4.40129481e-01j,  0.3944553 +2.69554258e-01j,\n",
       "         1.        +5.55111512e-17j],\n",
       "       [ 0.81420701+4.11780095e-01j,  0.80820483-4.66157023e-01j,\n",
       "        -0.41481674+4.76422488e-01j, -0.29563858+2.88733049e-01j,\n",
       "         1.        +0.00000000e+00j],\n",
       "       [ 0.56737995+5.44340661e-01j,  1.        +0.00000000e+00j,\n",
       "        -0.18695499+2.93223833e-01j, -0.22211769+3.36949248e-02j,\n",
       "         0.74277723-5.98164229e-01j],\n",
       "       [ 0.3461668 +3.94296897e-01j,  1.        +2.77555756e-17j,\n",
       "         0.07862996-6.37442182e-02j, -0.1948906 -1.78249246e-01j,\n",
       "        -0.31474638-9.45784652e-01j],\n",
       "       [-0.26434892+5.78383359e-01j,  1.        -5.55111512e-17j,\n",
       "        -0.28501691+2.88151530e-01j, -0.27750431+9.43077498e-01j,\n",
       "         0.54357353-1.97337441e-01j],\n",
       "       [-0.75245645+1.41905198e-01j,  0.15457149-3.92623919e-01j,\n",
       "        -0.2333431 -6.38052895e-02j, -0.34655063+9.11571134e-01j,\n",
       "         1.        +0.00000000e+00j],\n",
       "       [-0.65648946-7.87129140e-02j, -0.21962574-9.39194558e-01j,\n",
       "        -0.04359659-1.34551154e-01j, -0.05303008+8.44683666e-01j,\n",
       "         1.        +0.00000000e+00j],\n",
       "       [ 1.        +5.55111512e-17j,  0.45650943-1.70956388e-02j,\n",
       "         0.3039302 +2.87080567e-01j,  0.44435444-5.65137382e-01j,\n",
       "        -0.99715609-3.59427212e-02j],\n",
       "       [ 1.        +0.00000000e+00j,  0.74821867-5.68382129e-01j,\n",
       "         0.36694402+3.70925784e-01j,  0.48780056-1.72042450e-01j,\n",
       "        -0.75221143-8.21652745e-03j],\n",
       "       [ 1.        +0.00000000e+00j,  0.43694957-5.64073839e-02j,\n",
       "         0.63850055+1.07667756e-01j, -0.86514187-2.35896501e-02j,\n",
       "         0.73105852+5.34265569e-01j],\n",
       "       [ 0.30641799+4.60279808e-01j,  1.        +0.00000000e+00j,\n",
       "         0.6384994 +6.09147040e-01j, -0.90826524+5.45483105e-02j,\n",
       "         0.68903444+2.19620620e-01j],\n",
       "       [ 1.        +2.77555756e-17j, -0.20658239-8.54927776e-01j,\n",
       "         0.67745973-5.68027780e-01j, -0.02607672+4.29294765e-01j,\n",
       "         0.05310867-7.48730321e-02j],\n",
       "       [ 1.        -2.77555756e-17j, -0.85608911+1.57589416e-01j,\n",
       "        -0.08880724-3.60479156e-01j,  0.16625976-6.72439192e-01j,\n",
       "        -0.37290583+9.05618326e-01j],\n",
       "       [-0.34474259-6.69648104e-01j,  0.68377994+6.36010707e-01j,\n",
       "        -0.1241454 +3.66427836e-01j, -0.79244592+1.22040016e-01j,\n",
       "         1.        +5.55111512e-17j],\n",
       "       [ 0.19519246+5.05966128e-01j, -0.98886799+8.82286637e-02j,\n",
       "         0.55371005+6.42618549e-01j,  1.        +0.00000000e+00j,\n",
       "         0.29728202-1.52318828e-02j],\n",
       "       [-0.12633806-5.79454023e-01j,  1.        -5.55111512e-17j,\n",
       "         0.66841858-3.59025643e-01j, -0.33844853-8.84834165e-01j,\n",
       "        -0.2687263 -2.17045264e-02j],\n",
       "       [ 0.08673238+4.68601115e-01j, -0.93949125-4.89212131e-02j,\n",
       "         1.        +0.00000000e+00j,  0.60519482-5.42769385e-01j,\n",
       "         0.28312861+1.71482420e-03j],\n",
       "       [-0.07789429-5.77928614e-01j,  1.        +0.00000000e+00j,\n",
       "         0.77448535+6.23803580e-01j,  0.46592009-6.28169847e-01j,\n",
       "        -0.25139619-1.59977350e-03j],\n",
       "       [-0.06956969-5.23702382e-01j,  1.        +0.00000000e+00j,\n",
       "        -0.29731273+9.45169574e-01j,  0.34670058+3.20070884e-01j,\n",
       "        -0.27018447+2.18453507e-02j],\n",
       "       [ 0.14022875-1.53889720e-01j,  1.        -2.77555756e-17j,\n",
       "        -0.63960124-1.83927234e-01j,  0.82176234+5.64873147e-01j,\n",
       "        -0.00100808+4.48891299e-02j],\n",
       "       [ 0.73519654-2.94282841e-01j,  1.        +0.00000000e+00j,\n",
       "        -0.36459331-9.19751855e-01j, -0.024635  +1.37691473e-01j,\n",
       "         0.10624399+2.91585091e-01j],\n",
       "       [-0.59194984+7.18882030e-02j, -0.00405718-4.40849279e-01j,\n",
       "        -0.31028457+9.37017046e-01j,  1.        +0.00000000e+00j,\n",
       "        -0.0787162 -2.16071229e-01j],\n",
       "       [ 0.61908372+3.80667517e-01j,  1.        +5.55111512e-17j,\n",
       "         0.27345063-3.13614257e-01j,  0.78686891-5.47631933e-01j,\n",
       "        -0.19511651+2.93999200e-01j],\n",
       "       [-0.25872568+8.91023073e-01j,  0.12251371+6.44149524e-01j,\n",
       "         0.64767728+5.51468145e-01j,  1.        -5.55111512e-17j,\n",
       "        -0.41323484-9.35744707e-02j],\n",
       "       [ 0.61334252+6.47838272e-01j, -0.29318881+9.13450363e-01j,\n",
       "         0.42532618-4.10695174e-01j, -0.77801199+3.40723904e-01j,\n",
       "         1.        +0.00000000e+00j],\n",
       "       [-0.22277193+6.92620407e-01j, -0.57389657-3.89176577e-01j,\n",
       "         1.        +4.33680869e-19j,  0.13763017-3.25411607e-01j,\n",
       "         0.8048578 +5.79512694e-01j],\n",
       "       [-0.34448015+4.07163507e-01j, -0.32739471-8.58371745e-01j,\n",
       "         1.        +0.00000000e+00j,  0.6879651 -3.45708895e-01j,\n",
       "         0.62134743+3.85964168e-01j],\n",
       "       [ 0.59566689+3.26605346e-01j,  0.46520483+6.34561016e-01j,\n",
       "         0.54802368-7.72816573e-02j, -0.25546544+9.56247293e-01j,\n",
       "         1.        -1.38777878e-17j],\n",
       "       [ 0.17433892+4.35246744e-03j,  0.13985303-7.15318019e-01j,\n",
       "         0.73936226-5.62896564e-01j,  1.        -1.11022302e-16j,\n",
       "         0.6908017 -5.19468331e-01j],\n",
       "       [-0.61721823-3.46658625e-01j, -0.40636187+8.75080007e-01j,\n",
       "         1.        -1.11022302e-16j, -0.13985413+9.32357319e-01j,\n",
       "         0.11797315+5.38732492e-01j],\n",
       "       [ 0.78098506+3.53495752e-01j,  0.58431997-4.21600359e-01j,\n",
       "        -0.8633745 +1.88982632e-01j,  1.        +5.55111512e-17j,\n",
       "        -0.06691161-9.80785383e-01j],\n",
       "       [-0.27747988+8.29358167e-01j,  0.27839791+3.01109590e-01j,\n",
       "        -0.44218004-8.24856252e-01j, -0.50883574+7.17581659e-01j,\n",
       "         1.        +0.00000000e+00j],\n",
       "       [-0.57051808-1.03065301e-02j,  0.50824523+6.07427201e-01j,\n",
       "         0.74885039-6.26662460e-01j,  1.        +0.00000000e+00j,\n",
       "         0.04195458+2.64889192e-01j],\n",
       "       [-0.00157557-7.05907128e-01j, -0.07429307+2.91892308e-01j,\n",
       "         0.80190261+5.32209615e-01j,  1.        +0.00000000e+00j,\n",
       "        -0.71614959+5.98417650e-04j],\n",
       "       [-0.43261431+3.75512694e-01j,  1.        +0.00000000e+00j,\n",
       "         0.78743369-5.92356778e-01j,  0.5573261 -3.45233365e-01j,\n",
       "         0.34261289+2.95317445e-01j],\n",
       "       [-0.59848084+1.03483910e-01j,  1.        -6.93889390e-18j,\n",
       "         0.7063179 +3.64658461e-01j,  0.83241279-4.80108782e-01j,\n",
       "        -0.00691522+6.65599871e-01j],\n",
       "       [-0.22448851-1.38408726e-01j, -0.30071699+9.33722862e-01j,\n",
       "         1.        +0.00000000e+00j, -0.20728964+5.87093873e-01j,\n",
       "         0.20635541+7.78104566e-02j],\n",
       "       [-0.21720947+4.35351608e-01j, -0.01734459-7.11410110e-01j,\n",
       "         1.        +0.00000000e+00j, -0.3403699 -8.73286498e-01j,\n",
       "         0.61803783+4.52953522e-01j],\n",
       "       [ 0.02399014+1.29090021e-01j, -0.86968251+3.67899565e-02j,\n",
       "         1.        +5.55111512e-17j, -0.89376488-4.48410590e-02j,\n",
       "         0.56073946+7.89182115e-02j],\n",
       "       [ 0.18842053-4.23440852e-01j, -0.63130514-1.33362532e-01j,\n",
       "        -0.3131777 +4.06725639e-01j, -0.2837503 +9.53525899e-01j,\n",
       "         1.        +0.00000000e+00j],\n",
       "       [ 1.        +0.00000000e+00j, -0.04329063-3.31161741e-01j,\n",
       "        -0.23027751-2.61186238e-01j, -0.9005209 -6.87449706e-02j,\n",
       "         0.74723731+4.43029401e-01j],\n",
       "       [ 1.        -5.55111512e-17j,  0.02178831+3.78650330e-01j,\n",
       "         0.33307876-1.79672638e-01j, -0.04956683-1.80067027e-01j,\n",
       "         0.8086689 -5.86871174e-01j],\n",
       "       [ 0.04571404+7.33067425e-01j, -0.34149962+7.54117288e-01j,\n",
       "         0.69467048+4.20478371e-01j,  1.        -2.77555756e-17j,\n",
       "         0.71704117-4.51387539e-01j],\n",
       "       [-0.20640941+9.13583108e-01j, -0.38364844+6.26404932e-01j,\n",
       "         0.62092723+4.94557047e-01j,  1.        +0.00000000e+00j,\n",
       "         0.56586073-1.12576608e-01j],\n",
       "       [ 1.        +5.55111512e-17j, -0.58681877-4.17016411e-03j,\n",
       "         0.56180498+5.55571184e-01j,  0.72940478-5.98518436e-01j,\n",
       "         0.14355332+3.65859118e-01j],\n",
       "       [ 1.        +0.00000000e+00j, -0.30474095+6.02073653e-01j,\n",
       "         0.69366019-5.67013786e-01j,  0.17746506-7.73807221e-01j,\n",
       "        -0.26266707+8.74457493e-01j],\n",
       "       [-0.13469794-6.77156151e-01j,  0.56381149-2.44839316e-01j,\n",
       "        -0.97125866+3.71560268e-02j, -0.37925713+2.74291238e-01j,\n",
       "         1.        +0.00000000e+00j],\n",
       "       [-0.27418113-9.54232400e-01j, -0.37096732+4.08100941e-01j,\n",
       "         1.        +2.77555756e-17j, -0.36423818-7.78962859e-01j,\n",
       "         0.21437132-7.63749516e-01j],\n",
       "       [ 0.57621858-5.30294203e-01j, -0.13349741-4.18114720e-01j,\n",
       "        -0.32409807+8.84717055e-01j,  0.4453352 -1.73852228e-01j,\n",
       "         1.        +0.00000000e+00j],\n",
       "       [-0.97519745+8.04257319e-02j,  0.15962251-1.28096660e-01j,\n",
       "        -0.05463867-8.65771461e-02j,  0.76499411-3.28862699e-01j,\n",
       "         1.        +0.00000000e+00j],\n",
       "       [ 1.        -5.55111512e-17j, -0.34098809-3.23852764e-02j,\n",
       "        -0.12658168-5.20000276e-01j, -0.30166351+9.41901331e-01j,\n",
       "        -0.38953945-1.40558802e-02j],\n",
       "       [-0.30532865+9.27210099e-02j, -0.1409432 -2.11661491e-01j,\n",
       "        -0.21935928-6.84870030e-01j,  0.77504396+5.63191783e-01j,\n",
       "         1.        +2.77555756e-17j],\n",
       "       [ 1.        -1.11022302e-16j, -0.50965549+2.17332943e-01j,\n",
       "        -0.91003086-1.77513144e-01j,  0.50031539+1.49928968e-01j,\n",
       "        -0.40928064-8.62942157e-01j],\n",
       "       [ 0.48638346-4.07258055e-01j, -0.3485984 +3.15484783e-01j,\n",
       "        -0.97184777+2.29311872e-03j,  1.        +5.55111512e-17j,\n",
       "        -0.11934217-5.66753119e-01j],\n",
       "       [ 1.        +0.00000000e+00j, -0.30253683-7.39294340e-01j,\n",
       "        -0.17599412-8.19805645e-01j, -0.1177556 +5.40683241e-01j,\n",
       "        -0.21138387+7.55212030e-01j],\n",
       "       [ 1.        -5.55111512e-17j, -0.92167033-1.61683027e-01j,\n",
       "        -0.656829  -7.38993079e-02j, -0.16036555+3.07520008e-01j,\n",
       "        -0.11370127+9.37459186e-01j],\n",
       "       [ 1.        +5.55111512e-17j,  0.49448442-3.02524452e-01j,\n",
       "         0.74604521-5.80614342e-01j, -0.34108166+6.62548939e-01j,\n",
       "        -0.05848172+5.94339355e-01j],\n",
       "       [-0.37636035-7.21211848e-01j,  1.        -2.77555756e-17j,\n",
       "         0.78978079-4.33395645e-01j,  0.33687573+2.90923118e-01j,\n",
       "         0.59569476-4.97861886e-01j],\n",
       "       [ 0.71721062-4.61118745e-01j,  0.7151568 +4.29693255e-01j,\n",
       "         1.        -5.55111512e-17j, -0.22078193+6.18186121e-01j,\n",
       "         0.46984574+3.89835989e-01j],\n",
       "       [-0.03372816-5.59038000e-01j,  0.80521866+3.90441652e-01j,\n",
       "        -0.11181516+6.52280427e-01j,  0.66636042+6.53319584e-01j,\n",
       "         1.        +0.00000000e+00j],\n",
       "       [-0.08289301-1.55431278e-01j,  0.63443026-6.57204899e-01j,\n",
       "         1.        +0.00000000e+00j,  0.41876439-5.94064222e-01j,\n",
       "         0.88166204-4.34942862e-01j],\n",
       "       [-0.735618  -8.75400656e-02j,  0.47645065-2.31799409e-01j,\n",
       "        -0.07483768+6.80848472e-01j,  1.        +5.55111512e-17j,\n",
       "        -0.29555981-8.85864417e-01j],\n",
       "       [ 0.39764006+7.92989007e-02j,  0.41352198-2.63080469e-01j,\n",
       "         1.        +3.46944695e-18j, -0.02607787-5.58394377e-01j,\n",
       "         0.81005814+5.75197027e-01j],\n",
       "       [ 0.36997344+5.86457114e-01j, -0.01293579-3.10604835e-01j,\n",
       "         1.        +0.00000000e+00j, -0.22175948-9.34351624e-01j,\n",
       "        -0.10008269+8.86051518e-01j]])"
      ]
     },
     "execution_count": 6,
     "metadata": {},
     "output_type": "execute_result"
    }
   ],
   "source": [
    "points = pg.generate_points(100)\n",
    "points"
   ]
  },
  {
   "cell_type": "markdown",
   "metadata": {},
   "source": [
    "We see that the largest coordinate of each point is 1+0.j. The reason for that is two-fold:\n",
    "\n",
    "1. The numerics are more stable when we work with points, which have affine coordinates in the range of $|x_i| < 1$.\n",
    "2. The coordinate with 1+0.j already specifies the ambient space patch we are working in.\n",
    "\n",
    "We can also check if these points are all really satisfying the hypersurface equation of the Calabi-Yau."
   ]
  },
  {
   "cell_type": "code",
   "execution_count": 7,
   "metadata": {
    "scrolled": true
   },
   "outputs": [
    {
     "data": {
      "text/plain": [
       "array([ 1.72084569e-15+1.11022302e-15j, -1.96370697e-15+7.50094431e-15j,\n",
       "       -1.92901251e-15-6.13398221e-15j, -4.45792318e-15-5.78768899e-15j,\n",
       "       -3.04270498e-15-2.25514052e-16j,  8.88178420e-16+3.74006381e-15j,\n",
       "       -1.55431223e-15-4.71844785e-16j, -9.99200722e-16+5.55111512e-17j,\n",
       "        2.16493490e-15+1.94289029e-15j, -7.38124839e-16+2.63677968e-16j,\n",
       "        3.02904403e-15-1.26027661e-15j, -2.03682286e-15-3.62199420e-15j,\n",
       "        1.15879528e-15-3.94649591e-16j,  4.14016152e-16-9.76097051e-16j,\n",
       "       -2.56088553e-16-3.58220398e-16j, -5.55111512e-17-2.22044605e-16j,\n",
       "       -2.88657986e-15+4.44089210e-16j,  9.99200722e-16+1.31838984e-15j,\n",
       "       -6.55031585e-15+2.77555756e-15j,  1.11022302e-15+2.22044605e-16j,\n",
       "        2.77555756e-15-3.19189120e-16j, -3.77475828e-15-2.27595720e-15j,\n",
       "       -3.31408078e-15+2.33320308e-15j,  1.52655666e-15+1.55431223e-15j,\n",
       "       -4.30211422e-16-4.85722573e-16j, -2.30284541e-16-1.68268177e-16j,\n",
       "        2.67841305e-15-6.93889390e-15j,  2.77555756e-15-2.81719092e-15j,\n",
       "       -6.66133815e-16-3.88578059e-16j,  7.21644966e-16+5.55111512e-17j,\n",
       "       -6.77192677e-16-6.59194921e-17j,  8.18789481e-16-1.48839274e-15j,\n",
       "        1.07205911e-15+3.91353616e-15j, -6.10622664e-16+1.77635684e-15j,\n",
       "       -1.38777878e-15-5.27355937e-16j,  2.33146835e-15+8.32667268e-16j,\n",
       "        1.33226763e-15-2.05044315e-15j,  1.73472348e-16+1.90125693e-15j,\n",
       "        1.09634524e-15-6.24500451e-16j, -4.85722573e-17-2.08166817e-16j,\n",
       "        2.22044605e-15+2.77555756e-17j,  2.22044605e-15-1.56125113e-16j,\n",
       "        6.32827124e-15-4.05231404e-15j,  4.88498131e-15+9.99200722e-16j,\n",
       "       -9.99200722e-16-5.82867088e-16j, -1.28022593e-15-2.49800181e-16j,\n",
       "        1.11022302e-16+1.94289029e-16j, -2.22044605e-16-4.99600361e-16j,\n",
       "       -5.55111512e-16+1.08246745e-15j,  8.32667268e-17+4.30211422e-16j,\n",
       "        1.11022302e-15-4.19803081e-16j, -2.63677968e-16-8.88178420e-16j,\n",
       "        1.23342397e-15-9.19826959e-17j,  1.55431223e-15-1.77635684e-15j,\n",
       "       -8.88178420e-16+1.11022302e-15j,  3.43215040e-15+3.30345560e-15j,\n",
       "        2.81458884e-16+5.25859738e-15j, -7.80625564e-17-1.62935258e-16j,\n",
       "       -2.23323963e-15+2.02070890e-15j,  4.87890978e-17-5.22585447e-17j,\n",
       "        8.71344844e-17-7.89244707e-16j,  1.82579646e-16+3.64075090e-15j,\n",
       "       -9.01622527e-16-2.47494896e-15j,  3.77302356e-16-1.38083989e-15j,\n",
       "       -8.39606162e-16+1.44849410e-15j,  2.33146835e-15-2.22044605e-16j,\n",
       "        4.77395901e-15+1.87350135e-16j,  5.66213743e-15-3.89965837e-15j,\n",
       "        1.04360964e-14-4.53803661e-15j,  7.21644966e-16+1.02140518e-14j,\n",
       "       -8.11850587e-16-4.48599491e-15j, -3.33066907e-16-6.10622664e-15j,\n",
       "       -2.88657986e-15-1.11022302e-16j, -2.43945489e-16-9.18969761e-16j,\n",
       "        4.71844785e-16+9.72529349e-17j, -8.08381140e-16+2.29850861e-16j,\n",
       "       -1.86309301e-15-5.55111512e-16j,  2.01046319e-15-2.33558832e-15j,\n",
       "       -7.21644966e-16+5.55111512e-17j, -8.60422844e-16+2.08166817e-16j,\n",
       "        1.11022302e-16+4.70457007e-15j,  1.06581410e-14+2.63677968e-15j,\n",
       "        4.88498131e-15+3.39572120e-15j, -9.43689571e-16+3.60822483e-16j,\n",
       "       -5.20417043e-16-1.94289029e-16j,  4.00894595e-15-4.33680869e-16j,\n",
       "       -6.55031585e-15-5.99520433e-15j, -8.88178420e-16-9.71445147e-16j,\n",
       "       -6.10622664e-16+3.96904731e-15j, -8.88178420e-16-5.27355937e-16j,\n",
       "        4.44089210e-16-1.66533454e-16j, -1.71737624e-15+4.11671565e-15j,\n",
       "       -8.88178420e-16+1.63757896e-15j,  1.18793864e-14-1.77635684e-15j,\n",
       "       -1.51961776e-15+1.83880688e-15j,  4.99600361e-16-4.16333634e-16j,\n",
       "        1.16573418e-15-5.55111512e-16j,  2.10248485e-15-1.91513472e-15j,\n",
       "       -1.66533454e-16-8.32667268e-17j,  4.02455846e-16-1.85962357e-15j,\n",
       "        8.88178420e-16-5.55111512e-17j,  5.10702591e-15-5.77315973e-15j,\n",
       "       -3.99680289e-15-7.04991621e-15j, -5.55111512e-15+6.12704332e-15j,\n",
       "        2.83106871e-15-6.27276009e-15j])"
      ]
     },
     "execution_count": 7,
     "metadata": {},
     "output_type": "execute_result"
    }
   ],
   "source": [
    "pg.cy_condition(points)"
   ]
  },
  {
   "cell_type": "markdown",
   "metadata": {},
   "source": [
    "what we are really interested in from the *PointGenerator* is a training set for our neural networks. Such a training set can be generated as follows:"
   ]
  },
  {
   "cell_type": "code",
   "execution_count": 8,
   "metadata": {},
   "outputs": [
    {
     "name": "stdout",
     "output_type": "stream",
     "text": [
      "Help on method prepare_dataset in module cymetric.pointgen.pointgen:\n",
      "\n",
      "prepare_dataset(n_p, dirname, val_split=0.1, ltails=0, rtails=0) method of cymetric.pointgen.pointgen.PointGenerator instance\n",
      "    Prepares training and validation data.\n",
      "    \n",
      "    Args:\n",
      "        n_p (int): Number of points to generate.\n",
      "        dirname (str): Directory name to save dataset in.\n",
      "        val_split (float, optional): train-val split. Defaults to 0.1.\n",
      "        ltails (float, optional): Percentage discarded on the left tail\n",
      "            of weight distribution. Defaults to 0.\n",
      "        rtails (float, optional): Percentage discarded on the right tail\n",
      "            of weight distribution. Defaults to 0.\n",
      "    \n",
      "    Returns:\n",
      "        np.float: kappa = vol_k / vol_cy\n",
      "\n"
     ]
    }
   ],
   "source": [
    "help(pg.prepare_dataset)"
   ]
  },
  {
   "cell_type": "markdown",
   "metadata": {},
   "source": [
    "We specify the number of points and the directory name to save the file in. Note the file will always have the name *dataset.npz*."
   ]
  },
  {
   "cell_type": "code",
   "execution_count": 9,
   "metadata": {},
   "outputs": [],
   "source": [
    "dirname = 'fermat_pg'\n",
    "n_p = 100000"
   ]
  },
  {
   "cell_type": "markdown",
   "metadata": {},
   "source": [
    "and generate the dataset. This will also compute and return $\\kappa=\\text{vol}_\\text{K}/\\text{vol}_\\text{CY}$"
   ]
  },
  {
   "cell_type": "code",
   "execution_count": 10,
   "metadata": {},
   "outputs": [
    {
     "name": "stderr",
     "output_type": "stream",
     "text": [
      "/Users/ruehle/venv-ml/lib/python3.8/site-packages/numpy/linalg/linalg.py:2146: RuntimeWarning: divide by zero encountered in det\n",
      "  r = _umath_linalg.det(a, signature=signature)\n",
      "/Users/ruehle/venv-ml/lib/python3.8/site-packages/numpy/linalg/linalg.py:2146: RuntimeWarning: invalid value encountered in det\n",
      "  r = _umath_linalg.det(a, signature=signature)\n",
      "pointgen:INFO:Vol_k: 5.000000000000001, Vol_cy: 284.2561104432773.\n"
     ]
    },
    {
     "data": {
      "text/plain": [
       "0.017589771393842175"
      ]
     },
     "execution_count": 10,
     "metadata": {},
     "output_type": "execute_result"
    }
   ],
   "source": [
    "kappa = pg.prepare_dataset(n_p, dirname);\n",
    "kappa"
   ]
  },
  {
   "cell_type": "markdown",
   "metadata": {},
   "source": [
    "We load the dataset with"
   ]
  },
  {
   "cell_type": "code",
   "execution_count": 11,
   "metadata": {},
   "outputs": [],
   "source": [
    "data = np.load(os.path.join(dirname, 'dataset.npz'))"
   ]
  },
  {
   "cell_type": "markdown",
   "metadata": {},
   "source": [
    "and study its content"
   ]
  },
  {
   "cell_type": "code",
   "execution_count": 12,
   "metadata": {},
   "outputs": [
    {
     "name": "stdout",
     "output_type": "stream",
     "text": [
      "X_train\n",
      "y_train\n",
      "X_val\n",
      "y_val\n",
      "val_pullbacks\n"
     ]
    }
   ],
   "source": [
    "for key in data:\n",
    "    print(key)"
   ]
  },
  {
   "cell_type": "markdown",
   "metadata": {},
   "source": [
    "It contains training and validation data and the validation pullbacks. You might ask, what is written in the y_true values for validation and training data, given that we don't know the exact Ricci-flat metric. The 'y_train/val' arrays contain the integration weights and $\\Omega \\wedge \\bar\\Omega$ for each point. In principle, they can be used for any relevant pointwise information that could be needed during the training process."
   ]
  },
  {
   "cell_type": "code",
   "execution_count": 13,
   "metadata": {},
   "outputs": [],
   "source": [
    "weights = data['y_val'][:, 0]\n",
    "omega = data['y_val'][:, 1]"
   ]
  },
  {
   "cell_type": "markdown",
   "metadata": {},
   "source": [
    "we can also compute these values directly with the *PointGenerator*. Note, that the points in 'X_train/val' are floats, because our neural network will work with real values. We can recover the complex points as follows:"
   ]
  },
  {
   "cell_type": "code",
   "execution_count": 14,
   "metadata": {},
   "outputs": [],
   "source": [
    "points = data['X_val'][:, 0:pg.ncoords] + 1.j*data['X_val'][:, pg.ncoords:]"
   ]
  },
  {
   "cell_type": "markdown",
   "metadata": {},
   "source": [
    "and then compute the weights"
   ]
  },
  {
   "cell_type": "code",
   "execution_count": 15,
   "metadata": {},
   "outputs": [
    {
     "data": {
      "text/plain": [
       "False"
      ]
     },
     "execution_count": 15,
     "metadata": {},
     "output_type": "execute_result"
    }
   ],
   "source": [
    "weights2 = pg.point_weight(points)\n",
    "np.allclose(weights, weights2)"
   ]
  },
  {
   "cell_type": "markdown",
   "metadata": {},
   "source": [
    "and the holomorphic volume form"
   ]
  },
  {
   "cell_type": "code",
   "execution_count": 16,
   "metadata": {},
   "outputs": [
    {
     "data": {
      "text/plain": [
       "True"
      ]
     },
     "execution_count": 16,
     "metadata": {},
     "output_type": "execute_result"
    }
   ],
   "source": [
    "omega2 = pg.holomorphic_volume_form(points)\n",
    "omega2 = omega2 * np.conj(omega2)\n",
    "np.allclose(omega, omega2)"
   ]
  },
  {
   "cell_type": "markdown",
   "metadata": {},
   "source": [
    "We will have to give information of the monomials and their derivatives to the tensorflow model. For this purpose we will create pickled dictionary denoted by *BASIS*."
   ]
  },
  {
   "cell_type": "code",
   "execution_count": 17,
   "metadata": {},
   "outputs": [
    {
     "data": {
      "text/plain": [
       "0"
      ]
     },
     "execution_count": 17,
     "metadata": {},
     "output_type": "execute_result"
    }
   ],
   "source": [
    "pg.prepare_basis(dirname, kappa=kappa)"
   ]
  },
  {
   "cell_type": "markdown",
   "metadata": {},
   "source": [
    "Let us look at the information stored in *basis.pickle*"
   ]
  },
  {
   "cell_type": "code",
   "execution_count": 18,
   "metadata": {},
   "outputs": [
    {
     "name": "stdout",
     "output_type": "stream",
     "text": [
      "DQDZB0\n",
      "DQDZF0\n",
      "QB0\n",
      "QF0\n",
      "NFOLD\n",
      "AMBIENT\n",
      "KMODULI\n",
      "NHYPER\n",
      "INTNUMS\n",
      "KAPPA\n"
     ]
    }
   ],
   "source": [
    "with open(os.path.join(dirname, 'basis.pickle'), 'rb') as f:\n",
    "    basis = pickle.load(f)\n",
    "for key in basis:\n",
    "    print(key)"
   ]
  },
  {
   "cell_type": "markdown",
   "metadata": {},
   "source": [
    "So in case you want to use your own PointGenerator with our TensorFlow models you will have to create a similar basis dictionary. Here we briefly describe what each of these keys stands for. In general *Q* denotes the defining hypersurface(s) with the final integer digit denoting the hypersurface index. *D* refers to derivatives, *Z* to the ambient space coordinates, *B* to a monomials basis and *F* for factors/coefficients for each monomial.\n",
    "\n",
    "1. \"DQDZB0\": $\\frac{\\partial Q_0}{\\partial z_i}$ monomials basis of derivatives of the first (and only for quintic) hypersurface w.r.t. ambient coordinates. \n",
    "2. \"DQDZF0\": $\\frac{\\partial Q_0}{\\partial z_i}$ coefficients of the monomial basis.\n",
    "3. \"QB0\": monomials basis for first hypersurface\n",
    "4. \"QF0\": coefficients for monomial basis.\n",
    "5. \"NFOLD\": CY dimension.\n",
    "6. \"AMBIENT\": degrees of projective spaces making up the ambient space.\n",
    "7. \"KMODULI\": kähler moduli corresponding to each projective factors. Note the CY needs to be favourable, otherwise you will have some superposition.\n",
    "8. \"NHYPER\": number of hypersurfaces.\n",
    "9. \"INTNUMS\": The intersection numbers of the CY.\n",
    "10. \"KAPPA\": The ratio between the volume measures (Kahler volume over holomorphic volume)\n",
    "\n",
    "That pretty much sums up our introduction to the *PointGenerator* class, next we will implement the Fermat quintic in the *CICYPointGenerator*."
   ]
  },
  {
   "cell_type": "markdown",
   "metadata": {},
   "source": [
    "## CICYPointGenerator\n",
    "\n",
    "The other point generators come with the same functionality and routines as the *PointGenerator*. \n",
    "\n",
    "First we load from the cymetric package."
   ]
  },
  {
   "cell_type": "code",
   "execution_count": 19,
   "metadata": {},
   "outputs": [],
   "source": [
    "from cymetric.pointgen.pointgen_cicy import CICYPointGenerator"
   ]
  },
  {
   "cell_type": "markdown",
   "metadata": {},
   "source": [
    "In contrast to the *PointGenerator* the *CICYPointGenerator* expects a list of monomials and coefficients. We reuse our previous monomials (and coefficients) with"
   ]
  },
  {
   "cell_type": "code",
   "execution_count": 20,
   "metadata": {},
   "outputs": [],
   "source": [
    "pgcicy = CICYPointGenerator([monomials], [coefficients], kmoduli, ambient)"
   ]
  },
  {
   "cell_type": "markdown",
   "metadata": {},
   "source": [
    "we again create a dataset"
   ]
  },
  {
   "cell_type": "code",
   "execution_count": 21,
   "metadata": {},
   "outputs": [],
   "source": [
    "dirname = 'fermat_pgcicy'"
   ]
  },
  {
   "cell_type": "code",
   "execution_count": 22,
   "metadata": {
    "scrolled": true
   },
   "outputs": [
    {
     "name": "stderr",
     "output_type": "stream",
     "text": [
      "/Users/ruehle/venv-ml/lib/python3.8/site-packages/scipy/optimize/minpack.py:175: RuntimeWarning: The iteration is not making good progress, as measured by the \n",
      "  improvement from the last ten iterations.\n",
      "  warnings.warn(msg, RuntimeWarning)\n",
      "/Users/ruehle/venv-ml/lib/python3.8/site-packages/scipy/optimize/minpack.py:175: RuntimeWarning: The iteration is not making good progress, as measured by the \n",
      "  improvement from the last five Jacobian evaluations.\n",
      "  warnings.warn(msg, RuntimeWarning)\n",
      "/Users/ruehle/venv-ml/lib/python3.8/site-packages/scipy/optimize/minpack.py:175: RuntimeWarning: The iteration is not making good progress, as measured by the \n",
      "  improvement from the last ten iterations.\n",
      "  warnings.warn(msg, RuntimeWarning)\n",
      "/Users/ruehle/venv-ml/lib/python3.8/site-packages/scipy/optimize/minpack.py:175: RuntimeWarning: The iteration is not making good progress, as measured by the \n",
      "  improvement from the last five Jacobian evaluations.\n",
      "  warnings.warn(msg, RuntimeWarning)\n",
      "/Users/ruehle/venv-ml/lib/python3.8/site-packages/scipy/optimize/minpack.py:175: RuntimeWarning: The iteration is not making good progress, as measured by the \n",
      "  improvement from the last ten iterations.\n",
      "  warnings.warn(msg, RuntimeWarning)\n",
      "/Users/ruehle/venv-ml/lib/python3.8/site-packages/scipy/optimize/minpack.py:175: RuntimeWarning: The iteration is not making good progress, as measured by the \n",
      "  improvement from the last five Jacobian evaluations.\n",
      "  warnings.warn(msg, RuntimeWarning)\n",
      "/Users/ruehle/venv-ml/lib/python3.8/site-packages/scipy/optimize/minpack.py:175: RuntimeWarning: The iteration is not making good progress, as measured by the \n",
      "  improvement from the last ten iterations.\n",
      "  warnings.warn(msg, RuntimeWarning)\n",
      "/Users/ruehle/venv-ml/lib/python3.8/site-packages/scipy/optimize/minpack.py:175: RuntimeWarning: The iteration is not making good progress, as measured by the \n",
      "  improvement from the last five Jacobian evaluations.\n",
      "  warnings.warn(msg, RuntimeWarning)\n",
      "/Users/ruehle/venv-ml/lib/python3.8/site-packages/scipy/optimize/minpack.py:175: RuntimeWarning: The iteration is not making good progress, as measured by the \n",
      "  improvement from the last ten iterations.\n",
      "  warnings.warn(msg, RuntimeWarning)\n",
      "/Users/ruehle/venv-ml/lib/python3.8/site-packages/scipy/optimize/minpack.py:175: RuntimeWarning: The iteration is not making good progress, as measured by the \n",
      "  improvement from the last five Jacobian evaluations.\n",
      "  warnings.warn(msg, RuntimeWarning)\n",
      "/Users/ruehle/venv-ml/lib/python3.8/site-packages/scipy/optimize/minpack.py:175: RuntimeWarning: The iteration is not making good progress, as measured by the \n",
      "  improvement from the last ten iterations.\n",
      "  warnings.warn(msg, RuntimeWarning)\n",
      "/Users/ruehle/venv-ml/lib/python3.8/site-packages/scipy/optimize/minpack.py:175: RuntimeWarning: The iteration is not making good progress, as measured by the \n",
      "  improvement from the last five Jacobian evaluations.\n",
      "  warnings.warn(msg, RuntimeWarning)\n",
      "/Users/ruehle/venv-ml/lib/python3.8/site-packages/scipy/optimize/minpack.py:175: RuntimeWarning: The iteration is not making good progress, as measured by the \n",
      "  improvement from the last ten iterations.\n",
      "  warnings.warn(msg, RuntimeWarning)\n",
      "/Users/ruehle/venv-ml/lib/python3.8/site-packages/scipy/optimize/minpack.py:175: RuntimeWarning: The iteration is not making good progress, as measured by the \n",
      "  improvement from the last five Jacobian evaluations.\n",
      "  warnings.warn(msg, RuntimeWarning)\n",
      "/Users/ruehle/venv-ml/lib/python3.8/site-packages/scipy/optimize/minpack.py:175: RuntimeWarning: The iteration is not making good progress, as measured by the \n",
      "  improvement from the last ten iterations.\n",
      "  warnings.warn(msg, RuntimeWarning)\n",
      "/Users/ruehle/venv-ml/lib/python3.8/site-packages/scipy/optimize/minpack.py:175: RuntimeWarning: The iteration is not making good progress, as measured by the \n",
      "  improvement from the last five Jacobian evaluations.\n",
      "  warnings.warn(msg, RuntimeWarning)\n",
      "/Users/ruehle/venv-ml/lib/python3.8/site-packages/scipy/optimize/minpack.py:175: RuntimeWarning: The iteration is not making good progress, as measured by the \n",
      "  improvement from the last ten iterations.\n",
      "  warnings.warn(msg, RuntimeWarning)\n",
      "/Users/ruehle/venv-ml/lib/python3.8/site-packages/scipy/optimize/minpack.py:175: RuntimeWarning: The iteration is not making good progress, as measured by the \n",
      "  improvement from the last five Jacobian evaluations.\n",
      "  warnings.warn(msg, RuntimeWarning)\n",
      "/Users/ruehle/venv-ml/lib/python3.8/site-packages/numpy/linalg/linalg.py:2146: RuntimeWarning: divide by zero encountered in det\n",
      "  r = _umath_linalg.det(a, signature=signature)\n",
      "/Users/ruehle/venv-ml/lib/python3.8/site-packages/numpy/linalg/linalg.py:2146: RuntimeWarning: invalid value encountered in det\n",
      "  r = _umath_linalg.det(a, signature=signature)\n",
      "pointgen:INFO:Vol_k: 5.0, Vol_cy: 296.9736310313387.\n"
     ]
    }
   ],
   "source": [
    "kappa = pgcicy.prepare_dataset(n_p, dirname)"
   ]
  },
  {
   "cell_type": "markdown",
   "metadata": {},
   "source": [
    "as you might have realised, this took significantly longer than before. The reason for that is also related to all the warnings. The *CICYPointGenerator* utilises *scipy.optimize.fsolve* to find solutions on CICYs. *fsolve* only provides a single root of the defining hypersurfaces and requires more involved numerics, thus leading to worse performance (also in accuracy).\n",
    "\n",
    "We again create a basis for the tensorflow models"
   ]
  },
  {
   "cell_type": "code",
   "execution_count": 23,
   "metadata": {},
   "outputs": [
    {
     "name": "stdout",
     "output_type": "stream",
     "text": [
      "DQDZB0\n",
      "DQDZF0\n",
      "QB0\n",
      "QF0\n",
      "NFOLD\n",
      "AMBIENT\n",
      "KMODULI\n",
      "NHYPER\n",
      "INTNUMS\n",
      "KAPPA\n"
     ]
    }
   ],
   "source": [
    "pgcicy.prepare_basis(dirname, kappa)\n",
    "with open(os.path.join(dirname, 'basis.pickle'), 'rb') as f:\n",
    "    basis = pickle.load(f)\n",
    "for key in basis:\n",
    "    print(key)"
   ]
  },
  {
   "cell_type": "markdown",
   "metadata": {},
   "source": [
    "and see that the keys are identical to before."
   ]
  },
  {
   "cell_type": "markdown",
   "metadata": {},
   "source": [
    "## PointGeneratorMathematica\n",
    "\n",
    "As the name suggests, *PointGeneratorMathematica* uses Mathematica as a backend and hence needs mathematica installed on the system. It uses [wolframclient](https://reference.wolfram.com/language/WolframClientForPython/) for interop."
   ]
  },
  {
   "cell_type": "code",
   "execution_count": 24,
   "metadata": {},
   "outputs": [],
   "source": [
    "from cymetric.pointgen.pointgen_mathematica import PointGeneratorMathematica"
   ]
  },
  {
   "cell_type": "markdown",
   "metadata": {},
   "source": [
    "Just like the CICYPointGenerator, *PointGeneratorMathematica* expects a list of monomials and coefficients. We reuse our previous monomials (and coefficients) with"
   ]
  },
  {
   "cell_type": "code",
   "execution_count": 25,
   "metadata": {},
   "outputs": [],
   "source": [
    "pgmath = PointGeneratorMathematica([monomials], [coefficients], kmoduli, ambient)"
   ]
  },
  {
   "cell_type": "markdown",
   "metadata": {},
   "source": [
    "we again create a dataset"
   ]
  },
  {
   "cell_type": "code",
   "execution_count": 26,
   "metadata": {},
   "outputs": [],
   "source": [
    "dirname = 'fermat_pgmath'"
   ]
  },
  {
   "cell_type": "code",
   "execution_count": 27,
   "metadata": {},
   "outputs": [
    {
     "name": "stderr",
     "output_type": "stream",
     "text": [
      "WolframKernel-<tcp://127.0.0.1:58297>:INFO:Connected to logging socket: tcp://127.0.0.1:58297\n",
      "WolframKernel-<tcp://127.0.0.1:58297>:DEBUG:Evaluating a new expression.\n",
      "pointgenMathematica:DEBUG:Running with 10 Mathematica kernels.\n",
      "WolframKernel-<tcp://127.0.0.1:58297>:INFO:Configuration matrix: {{5}}\n",
      "WolframKernel-<tcp://127.0.0.1:58297>:INFO:Number of Parameters per P^n: {1}\n",
      "WolframKernel-<tcp://127.0.0.1:58297>:INFO:Number of points on CY from one ambient space intersection: 5\n",
      "WolframKernel-<tcp://127.0.0.1:58297>:INFO:Now generating 105263 points...\n",
      "WolframKernel-<tcp://127.0.0.1:58297>:INFO:Generated 0% of points\n",
      "WolframKernel-<tcp://127.0.0.1:58297>:INFO:Generated 5% of points\n",
      "WolframKernel-<tcp://127.0.0.1:58297>:INFO:Generated 10% of points\n",
      "WolframKernel-<tcp://127.0.0.1:58297>:INFO:Generated 15% of points\n",
      "WolframKernel-<tcp://127.0.0.1:58297>:INFO:Generated 20% of points\n",
      "WolframKernel-<tcp://127.0.0.1:58297>:INFO:Generated 25% of points\n",
      "WolframKernel-<tcp://127.0.0.1:58297>:INFO:Generated 30% of points\n",
      "WolframKernel-<tcp://127.0.0.1:58297>:INFO:Generated 35% of points\n",
      "WolframKernel-<tcp://127.0.0.1:58297>:INFO:Generated 40% of points\n",
      "WolframKernel-<tcp://127.0.0.1:58297>:INFO:Generated 45% of points\n",
      "WolframKernel-<tcp://127.0.0.1:58297>:INFO:Generated 50% of points\n",
      "WolframKernel-<tcp://127.0.0.1:58297>:INFO:Generated 55% of points\n",
      "WolframKernel-<tcp://127.0.0.1:58297>:INFO:Generated 60% of points\n",
      "WolframKernel-<tcp://127.0.0.1:58297>:INFO:Generated 65% of points\n",
      "WolframKernel-<tcp://127.0.0.1:58297>:INFO:Generated 70% of points\n",
      "WolframKernel-<tcp://127.0.0.1:58297>:INFO:Generated 75% of points\n",
      "WolframKernel-<tcp://127.0.0.1:58297>:INFO:Generated 80% of points\n",
      "WolframKernel-<tcp://127.0.0.1:58297>:INFO:Generated 85% of points\n",
      "WolframKernel-<tcp://127.0.0.1:58297>:INFO:Generated 90% of points\n",
      "WolframKernel-<tcp://127.0.0.1:58297>:INFO:Generated 95% of points\n",
      "WolframKernel-<tcp://127.0.0.1:58297>:INFO:done.\n",
      "pointgen:INFO:Vol_k: 5.0, Vol_cy: 291.14970357785734.\n"
     ]
    }
   ],
   "source": [
    "kappa = pgmath.prepare_dataset(n_p, dirname)"
   ]
  },
  {
   "cell_type": "markdown",
   "metadata": {},
   "source": [
    "We again create a basis for the tensorflow models"
   ]
  },
  {
   "cell_type": "code",
   "execution_count": 28,
   "metadata": {},
   "outputs": [
    {
     "name": "stdout",
     "output_type": "stream",
     "text": [
      "DQDZB0\n",
      "DQDZF0\n",
      "QB0\n",
      "QF0\n",
      "NFOLD\n",
      "AMBIENT\n",
      "KMODULI\n",
      "NHYPER\n",
      "INTNUMS\n",
      "KAPPA\n"
     ]
    }
   ],
   "source": [
    "pgmath.prepare_basis(dirname, kappa)\n",
    "with open(os.path.join(dirname, 'basis.pickle'), 'rb') as f:\n",
    "    basis = pickle.load(f)\n",
    "for key in basis:\n",
    "    print(key)"
   ]
  },
  {
   "cell_type": "markdown",
   "metadata": {},
   "source": [
    "## ToricPointGenerator\n",
    "\n",
    "The *ToricPointGenerator* is somewhat special and requires additional input data generated from [SageMath](https://www.sagemath.org/). This *toric_data* can be straightforwardly generated in any sage kernel that has access to the *cymetric* package. In praxis only a single module is needed which can be found [here](../cymetric/sage/sagelib.py). \n",
    "\n",
    "The next cell won't work in your regular python notebook because it requires some sage routines for toric geometry. See [here](https://doc.sagemath.org/html/en/reference/schemes/sage/schemes/toric/variety.html) for more information about toric varieties and their implementation inn sage and [here](https://doc.sagemath.org/html/en/reference/discrete_geometry/sage/geometry/triangulation/point_configuration.html) for information about triangulations of PointCollections.\n",
    "\n",
    "We begin by setting up the quintic vertices, which define the fan of the toric ambient variety. After initialising said variety we load the *prepare_toric_cy_data()* routine and generate the neccessary data for the *ToricPointGenerator* and the toric TensorFlow models."
   ]
  },
  {
   "cell_type": "code",
   "execution_count": 4,
   "metadata": {},
   "outputs": [],
   "source": [
    "from cymetric.sage.sagelib import prepare_toric_cy_data\n",
    "import os as os\n",
    "# Quintic vertices\n",
    "vertices = [\n",
    "   [1, 0, 0, 0], [0, 1, 0, 0], [0, 0, 1, 0], [0, 0, 0, 1], [-1, -1, -1, -1]\n",
    "]\n",
    "origin = [0 for _ in range(len(vertices[0]))]\n",
    "polytope = LatticePolytope(vertices)\n",
    "pConfig = PointConfiguration(polytope.points(), star=origin)\n",
    "#set to topcom for more efficient triangulations\n",
    "pConfig.set_engine(\"internal\")\n",
    "# restrict to fine star regular.\n",
    "triangulations = pConfig.restrict_to_connected_triangulations()\n",
    "triangulations = triangulations.restrict_to_fine_triangulations()\n",
    "#triangulations = triangulations.restrict_to_regular_triangulations()\n",
    "triangulations = triangulations.restrict_to_star_triangulations(origin)\n",
    "#take first triangulation; build fan and TV\n",
    "triang = triangulations.triangulate()\n",
    "tv_fan = triang.fan()\n",
    "TV = ToricVariety(tv_fan)\n",
    "fname = os.path.join('fermat_pgtoric', 'toric_data.pickle')\n",
    "toric_data = prepare_toric_cy_data(TV, fname)"
   ]
  },
  {
   "cell_type": "markdown",
   "metadata": {},
   "source": [
    "We are now in a position to go back to our regular python kernel or simply continue in Sage and load the *ToricPointGenerator*."
   ]
  },
  {
   "cell_type": "code",
   "execution_count": 5,
   "metadata": {},
   "outputs": [],
   "source": [
    "import pickle\n",
    "from cymetric.pointgen.pointgen_toric import ToricPointGenerator"
   ]
  },
  {
   "cell_type": "markdown",
   "metadata": {},
   "source": [
    "Let us look at the information that has been written to *toric_data.pickle*."
   ]
  },
  {
   "cell_type": "code",
   "execution_count": 6,
   "metadata": {
    "scrolled": true
   },
   "outputs": [
    {
     "name": "stdout",
     "output_type": "stream",
     "text": [
      "dim_cy\n",
      "3\n",
      "vol_j_norm\n",
      "5\n",
      "coeff_aK\n",
      "[(-0.31744931691640943+0.6858155722853458j), (-0.28144566697939244-0.3886386629978263j), (0.8693162553895902-0.37688359896122864j), (-0.2396837356374373+1.879852933717963j), (0.09197351979383012-0.6893621869078683j), (0.03291543678487073-0.8887107461044726j), (0.18135905088276336-0.13468925318125158j), (-0.2623780537957991+1.2478726120019101j), (1.647691886284407-0.0723750727477374j), (1.3505302619239192-0.7589314840633958j), (-0.2592801883048347+1.4941996089310141j), (0.8556500493130682+0.09704127594740121j), (1.0472004799769628-0.8490213656867046j), (-0.24334635356648604-0.08897171185978414j), (0.5189677326464252-0.26569188324102977j), (1.0165655999655385+0.7024945009395085j), (-0.3242203409033504+0.797553986602352j), (-0.762406460658888+0.9357826305438741j), (0.7343603283586707-1.6245786640454434j), (0.004782246967246886+1.1998846111540342j), (0.6035704769872311-1.090620776948206j), (-1.8175045262750547+0.8934656582670933j), (-1.614108876759556+0.6305410049955982j), (0.5749522263142184+0.1103330836518564j), (1.4199228672196644-0.4167615678897321j), (-0.3413248823162203+0.11519415141216068j), (1.1788100116985787-1.0115769098594884j), (-0.579266689578814-1.4144397129483206j), (0.6752152143702762+0.22055920635995324j), (1.356329434957225+0.48669628622738426j), (-0.6127958770335907-1.2120401126343994j), (-0.7406359920789002-1.5348537472126733j), (-0.21059083382908134-0.5296158245951275j), (-1.4412121923793968-0.2647371593731122j), (-0.5679577995705256+0.9429770754903785j), (1.117238790850743-1.1323621834497843j), (-0.05262611194498004+0.8784030197212916j), (1.1329766624339361-0.6262665132608628j), (-0.202722315150185-0.15495468895270126j), (-2.0737845594020796-0.5192485941789055j), (1.1013284331931648+0.4082603605218696j), (0.592186114731397+1.9973325457741105j), (1.2382789746602754+0.6806522542640338j), (-1.522330754063827-0.07570174763666909j), (0.446142362655658-0.2274955005183124j), (0.6082655574308945+1.7877284570401344j), (-0.14167886904232144-0.7693342623322671j), (-1.1434877594299038+0.25941532418127183j), (0.09200912956425915-1.1309764455812417j), (0.6279756292628823-0.9401854351949663j), (0.9046745897766483+0.6601110816858884j), (1.171537608023655-0.47872253931001996j), (-0.6002660248604078-0.8517477988001476j), (0.016157254306194458+0.7406141623000433j), (0.947035136416064+0.22890765586372464j), (-1.1713683830344075+1.607167703936036j), (0.006251028871952566-0.15973865706066703j), (-1.5597950635208917+0.9050592712845509j), (0.9395593474240392-0.9054671162972233j), (0.7593750651499085-1.037177647508126j), (-1.0078469232589597-0.2877768940372529j), (1.399259330045125-1.5024221471409835j), (0.7874920119366529-0.5481174273660301j), (0.5228794198004598-0.38020317787257174j), (1.9386306149915884+0.24138258064966975j), (0.7859497993300244-1.121128490852866j), (-1.6913064188205578-1.2207342959529157j), (-1.0902337409300789-1.27295773316045j), (-0.5506079784743172+1.0143278661073447j), (1.0731090735492352+0.26813253076339233j), (0.5531639748160299+1.4770762209263262j), (0.5358718300339228+1.7389664950527026j), (0.7412049203434797+0.41759832164331745j), (0.4922104513961545+0.4652713466395275j), (0.15135603856767307+0.4480418916693955j), (-1.042571790587701+1.3805467140972734j), (-0.44090565909458695-1.3257412889105307j), (-0.3263404889605451+0.6988521046583888j), (0.8287466324074654-0.5078916749166512j), (-0.6207236527523491-1.894559809249456j), (-0.44425109227036674+0.47883503093195556j), (-0.7401041272930452-1.764571013912758j), (-0.6434648988412585-0.22011524000526525j), (-1.3508757002383356-0.41524302273772784j), (0.20000602575538662+0.3954605509264831j), (1.0865916730177385-0.8055932151119712j), (-1.9713401953680152-0.2205716798239221j), (-1.3501350704702548-0.03151065320851366j), (1.1718270017014791+1.3974061016938069j), (0.013407863268262318+1.0073218203395575j), (-1.7872662146047835+2.3320684977547343j), (0.5610303236642059-0.46285791610312804j), (-1.8016643510358306-0.2775082639329178j), (-0.10712359201252605+0.5795761626973435j), (-0.838929524404096-1.1914961538538755j), (1.443500165186652+1.8998179505236228j), (-0.2974237629379124-0.7843932774321551j), (-0.13890541042153323+0.8604645308585743j), (-0.7564288445410592-0.2839774978419641j), (1.5035612352843346+1.3088588946011694j), (-1.73306170030791-1.3507341888642375j), (-1.6690935704819698+0.8268598495260445j), (-1.4249987993483164-0.6068978990059176j), (-0.10263814656173079-0.8237396140922191j), (-0.6908402688119963+0.6093545424901702j), (-0.2706948808153006+1.5800038678633594j), (0.6229643452069443+1.8470395601955931j), (1.1480219248617545-0.14346062384483102j), (-1.3830712865643129-1.7466170200455364j), (0.7609238865126922+1.0165928594588078j), (-0.9054118490537484+0.16492775504724497j), (1.2144226625794923-0.20632087857168566j), (0.8442951375407276-0.6149123300208872j), (-1.8701919856908005-0.9563900498600343j), (1.2221216742062175+0.8936862662435526j), (-0.9800346202471233+1.0257232897045472j), (0.7279840379530953-0.01725865725946265j), (-1.3335262399180192-0.7730072862626836j), (-0.3528959960684038-1.9077857266832348j), (1.743970468456404-0.11866077575498983j), (0.024303693634228546-0.8962441377499j), (0.9055861376748942+0.009156016394070696j), (1.0763938487473454-0.3372784536909771j), (-0.10703050227131963+0.12498195060790852j), (0.6055949717124112-1.109343631592121j), (-0.08198943989162702-0.03644987031949531j)]\n",
      "exp_aK\n",
      "[[0, 0, 0, 0, 5], [0, 0, 0, 1, 4], [0, 0, 0, 2, 3], [0, 0, 0, 3, 2], [0, 0, 0, 4, 1], [0, 0, 0, 5, 0], [0, 0, 1, 0, 4], [0, 0, 1, 1, 3], [0, 0, 1, 2, 2], [0, 0, 1, 3, 1], [0, 0, 1, 4, 0], [0, 0, 2, 0, 3], [0, 0, 2, 1, 2], [0, 0, 2, 2, 1], [0, 0, 2, 3, 0], [0, 0, 3, 0, 2], [0, 0, 3, 1, 1], [0, 0, 3, 2, 0], [0, 0, 4, 0, 1], [0, 0, 4, 1, 0], [0, 0, 5, 0, 0], [0, 1, 0, 0, 4], [0, 1, 0, 1, 3], [0, 1, 0, 2, 2], [0, 1, 0, 3, 1], [0, 1, 0, 4, 0], [0, 1, 1, 0, 3], [0, 1, 1, 1, 2], [0, 1, 1, 2, 1], [0, 1, 1, 3, 0], [0, 1, 2, 0, 2], [0, 1, 2, 1, 1], [0, 1, 2, 2, 0], [0, 1, 3, 0, 1], [0, 1, 3, 1, 0], [0, 1, 4, 0, 0], [0, 2, 0, 0, 3], [0, 2, 0, 1, 2], [0, 2, 0, 2, 1], [0, 2, 0, 3, 0], [0, 2, 1, 0, 2], [0, 2, 1, 1, 1], [0, 2, 1, 2, 0], [0, 2, 2, 0, 1], [0, 2, 2, 1, 0], [0, 2, 3, 0, 0], [0, 3, 0, 0, 2], [0, 3, 0, 1, 1], [0, 3, 0, 2, 0], [0, 3, 1, 0, 1], [0, 3, 1, 1, 0], [0, 3, 2, 0, 0], [0, 4, 0, 0, 1], [0, 4, 0, 1, 0], [0, 4, 1, 0, 0], [0, 5, 0, 0, 0], [1, 0, 0, 0, 4], [1, 0, 0, 1, 3], [1, 0, 0, 2, 2], [1, 0, 0, 3, 1], [1, 0, 0, 4, 0], [1, 0, 1, 0, 3], [1, 0, 1, 1, 2], [1, 0, 1, 2, 1], [1, 0, 1, 3, 0], [1, 0, 2, 0, 2], [1, 0, 2, 1, 1], [1, 0, 2, 2, 0], [1, 0, 3, 0, 1], [1, 0, 3, 1, 0], [1, 0, 4, 0, 0], [1, 1, 0, 0, 3], [1, 1, 0, 1, 2], [1, 1, 0, 2, 1], [1, 1, 0, 3, 0], [1, 1, 1, 0, 2], [1, 1, 1, 1, 1], [1, 1, 1, 2, 0], [1, 1, 2, 0, 1], [1, 1, 2, 1, 0], [1, 1, 3, 0, 0], [1, 2, 0, 0, 2], [1, 2, 0, 1, 1], [1, 2, 0, 2, 0], [1, 2, 1, 0, 1], [1, 2, 1, 1, 0], [1, 2, 2, 0, 0], [1, 3, 0, 0, 1], [1, 3, 0, 1, 0], [1, 3, 1, 0, 0], [1, 4, 0, 0, 0], [2, 0, 0, 0, 3], [2, 0, 0, 1, 2], [2, 0, 0, 2, 1], [2, 0, 0, 3, 0], [2, 0, 1, 0, 2], [2, 0, 1, 1, 1], [2, 0, 1, 2, 0], [2, 0, 2, 0, 1], [2, 0, 2, 1, 0], [2, 0, 3, 0, 0], [2, 1, 0, 0, 2], [2, 1, 0, 1, 1], [2, 1, 0, 2, 0], [2, 1, 1, 0, 1], [2, 1, 1, 1, 0], [2, 1, 2, 0, 0], [2, 2, 0, 0, 1], [2, 2, 0, 1, 0], [2, 2, 1, 0, 0], [2, 3, 0, 0, 0], [3, 0, 0, 0, 2], [3, 0, 0, 1, 1], [3, 0, 0, 2, 0], [3, 0, 1, 0, 1], [3, 0, 1, 1, 0], [3, 0, 2, 0, 0], [3, 1, 0, 0, 1], [3, 1, 0, 1, 0], [3, 1, 1, 0, 0], [3, 2, 0, 0, 0], [4, 0, 0, 0, 1], [4, 0, 0, 1, 0], [4, 0, 1, 0, 0], [4, 1, 0, 0, 0], [5, 0, 0, 0, 0]]\n",
      "exps_sections\n",
      "[[[0, 0, 0, 0, 1], [0, 0, 0, 1, 0], [0, 0, 1, 0, 0], [0, 1, 0, 0, 0], [1, 0, 0, 0, 0]]]\n",
      "patch_masks\n",
      "[[0, 0, 0, 0, 1], [0, 0, 0, 1, 0], [0, 0, 1, 0, 0], [0, 1, 0, 0, 0], [1, 0, 0, 0, 0]]\n",
      "glsm_charges\n",
      "[[1, 1, 1, 1, 1]]\n",
      "non_ci_coeffs\n",
      "[]\n",
      "non_ci_exps\n",
      "[]\n",
      "int_nums\n",
      "[[[5]]]\n"
     ]
    }
   ],
   "source": [
    "dirname = 'fermat_pgtoric'\n",
    "with open(os.path.join(dirname, 'toric_data.pickle'), 'rb') as f:\n",
    "    toric_data = pickle.load(f)\n",
    "for key in toric_data:\n",
    "    print(key)\n",
    "    print(toric_data[key])"
   ]
  },
  {
   "cell_type": "markdown",
   "metadata": {},
   "source": [
    "We have the following keys:\n",
    "\n",
    "1. \"dim_cy\": contains the dimension of the Calabi-Yau.\n",
    "2. \"vol_j_norm\": information for normalization of weights.\n",
    "2. \"coeff_aK\": are generic complex coefficients in front of each of the defining hypersurface monomials, which you get from the Batyrev construction. Note: Those are by default complex valued as they represent a (redundant) description of the complex moduli.\n",
    "3. \"exp_aK\": is the monomial basis for the defining equation.\n",
    "4. \"exps_sections\": is a monomial basis for the sections of the kähler cone generators. This one will be needed to generate the integration weights and a Kähler metric in the same Kähler class as our Ricci-flat metric.\n",
    "5. \"patch_masks\": are (boolean) coordinate masks for all the patches in the TV.\n",
    "6. \"glsm_charges\": are the GLSM charges of the TV.\n",
    "7. \"non_ci_coeffs\": when sampling points, we use the projecitivized 0th cohomology class of the Kahler cone generators. There can be non-complete-intersection relations among the sections, which are encoded in the non_ci_coeffs and the non_ci_exps.\n",
    "8. \"non_ci_exps\": The exponents of all Kahler cone generator sections\n",
    "9. \"int_nums\": are the triple intersection numbers of the TV.\n",
    "\n",
    "Having loaded the toric_data we can initialize the ToricPointGenerator"
   ]
  },
  {
   "cell_type": "code",
   "execution_count": 7,
   "metadata": {},
   "outputs": [
    {
     "name": "stderr",
     "output_type": "stream",
     "text": [
      "toricpointgen:WARNING:This is outdated code. The integration weight computation            has not been updated yet to match the ToricPointGeneratorMathematica.            In it's current form the integration weights are computed wrongly and            won't give you the correct volume in the MC integration.             Get involved and translate the Mathematica functions to python!            Proceed on your own risk, you have been warned.\n"
     ]
    }
   ],
   "source": [
    "pgtoric_gen = ToricPointGenerator(toric_data, kmoduli)"
   ]
  },
  {
   "cell_type": "markdown",
   "metadata": {},
   "source": [
    "We now have a generic quintic with coefficients in front of all 125 monomials.\n",
    "\n",
    "What if we only want the Fermat Quintic? We can override the information in \"coeff_aK\" and \"exp_aK\" with e.g."
   ]
  },
  {
   "cell_type": "code",
   "execution_count": 8,
   "metadata": {},
   "outputs": [],
   "source": [
    "toric_data[\"coeff_aK\"] = coefficients\n",
    "toric_data[\"exp_aK\"] = monomials"
   ]
  },
  {
   "cell_type": "markdown",
   "metadata": {},
   "source": [
    "and"
   ]
  },
  {
   "cell_type": "code",
   "execution_count": 9,
   "metadata": {},
   "outputs": [
    {
     "name": "stderr",
     "output_type": "stream",
     "text": [
      "toricpointgen:WARNING:This is outdated code. The integration weight computation            has not been updated yet to match the ToricPointGeneratorMathematica.            In it's current form the integration weights are computed wrongly and            won't give you the correct volume in the MC integration.             Get involved and translate the Mathematica functions to python!            Proceed on your own risk, you have been warned.\n"
     ]
    }
   ],
   "source": [
    "pgtoric = ToricPointGenerator(toric_data, kmoduli)"
   ]
  },
  {
   "cell_type": "markdown",
   "metadata": {},
   "source": [
    "we continue just as before with creating a dataset"
   ]
  },
  {
   "cell_type": "code",
   "execution_count": 13,
   "metadata": {},
   "outputs": [
    {
     "name": "stderr",
     "output_type": "stream",
     "text": [
      "pointgen:INFO:Vol_k: 5.0, Vol_cy: 296.38006888745014.\n"
     ]
    }
   ],
   "source": [
    "kappa = pgtoric.prepare_dataset(100000, dirname)"
   ]
  },
  {
   "cell_type": "markdown",
   "metadata": {},
   "source": [
    "We note, that the data generation again took quite some time even though there should just be a single hypersurface. We also optimize w.r.t. to the sections coming from the Kähler generators and thus have more than a single hypersurface to consider.\n",
    "\n",
    "We create the *BASIS* containing all information for the TensorFlow models:"
   ]
  },
  {
   "cell_type": "code",
   "execution_count": 14,
   "metadata": {},
   "outputs": [
    {
     "name": "stdout",
     "output_type": "stream",
     "text": [
      "DQDZB0\n",
      "DQDZF0\n",
      "QB0\n",
      "QF0\n",
      "NFOLD\n",
      "AMBIENT\n",
      "KMODULI\n",
      "NHYPER\n",
      "INTNUMS\n",
      "KAPPA\n"
     ]
    }
   ],
   "source": [
    "pgtoric.prepare_basis(dirname, kappa)\n",
    "with open(os.path.join(dirname, 'basis.pickle'), 'rb') as f:\n",
    "    basis = pickle.load(f)\n",
    "for key in basis:\n",
    "    print(key)"
   ]
  },
  {
   "cell_type": "markdown",
   "metadata": {},
   "source": [
    "## ToricPointGeneratorMathematica\n",
    "\n",
    "The *ToricPointGeneratorMathematica* requires both [SageMath](https://www.sagemath.org/) and Mathematica. SageMath does the toric computations and Mathematica the rest. The *toric_data* can be straightforwardly generated in any sage kernel that has access to the *cymetric* package. In praxis only a single module is needed which can be found [here](../cymetric/sage/sagelib.py). Alternatively, you can run the generator directly from within SageMath, as illustrated in another notebook.\n",
    "\n",
    "The next cell won't work in your regular python notebook because it requires some sage routines for toric geometry and Mathematica. See [here](https://doc.sagemath.org/html/en/reference/schemes/sage/schemes/toric/variety.html) for more information about toric varieties and their implementation in sage and [here](https://doc.sagemath.org/html/en/reference/discrete_geometry/sage/geometry/triangulation/point_configuration.html) for information about triangulations of PointCollections. For Mathematica interop, it uses the [wolframclient](https://reference.wolfram.com/language/WolframClientForPython/) for interop.\n",
    "\n",
    "We begin by setting up the quintic vertices, which define the fan of the toric ambient variety. After initialising said variety we load the *prepare_toric_cy_data()* routine and generate the neccessary data for the *ToricPointGenerator* and the toric TensorFlow models."
   ]
  },
  {
   "cell_type": "code",
   "execution_count": 7,
   "metadata": {},
   "outputs": [
    {
     "ename": "ValueError",
     "evalue": "You must install TOPCOM to test for regularity.",
     "output_type": "error",
     "traceback": [
      "\u001b[0;31m---------------------------------------------------------------------------\u001b[0m",
      "\u001b[0;31mKeyError\u001b[0m                                  Traceback (most recent call last)",
      "File \u001b[0;32m/private/var/tmp/sage-10.4-current/local/var/lib/sage/venv-python3.12.4/lib/python3.12/site-packages/sage/misc/cachefunc.pyx:1010\u001b[0m, in \u001b[0;36msage.misc.cachefunc.CachedFunction.__call__ (build/cythonized/sage/misc/cachefunc.c:8371)\u001b[0;34m()\u001b[0m\n\u001b[1;32m   1009\u001b[0m try:\n\u001b[0;32m-> 1010\u001b[0m     return self.cache[k]\n\u001b[1;32m   1011\u001b[0m except TypeError:  # k is not hashable\n",
      "File \u001b[0;32m/private/var/tmp/sage-10.4-current/local/var/lib/sage/venv-python3.12.4/lib/python3.12/site-packages/sage/misc/weak_dict.pyx:716\u001b[0m, in \u001b[0;36msage.misc.weak_dict.WeakValueDictionary.__getitem__ (build/cythonized/sage/misc/weak_dict.c:5404)\u001b[0;34m()\u001b[0m\n\u001b[1;32m    715\u001b[0m if wr == NULL:\n\u001b[0;32m--> 716\u001b[0m     raise KeyError(k)\n\u001b[1;32m    717\u001b[0m out = PyWeakref_GetObject(wr)\n",
      "\u001b[0;31mKeyError\u001b[0m: ((<class 'sage.geometry.triangulation.point_configuration.PointConfiguration'>, ((0, 0, 1), (0, 1, 1), (1, 0, 1), (1, 1, 1), (-1, -1, 1)), True, False, True, None, True), ())",
      "\nDuring handling of the above exception, another exception occurred:\n",
      "\u001b[0;31mValueError\u001b[0m                                Traceback (most recent call last)",
      "Cell \u001b[0;32mIn[7], line 4\u001b[0m\n\u001b[1;32m      2\u001b[0m p\u001b[38;5;241m.\u001b[39mrestrict_to_connected_triangulations()\n\u001b[1;32m      3\u001b[0m p\u001b[38;5;241m.\u001b[39mrestrict_to_fine_triangulations()\n\u001b[0;32m----> 4\u001b[0m \u001b[43mp\u001b[49m\u001b[38;5;241;43m.\u001b[39;49m\u001b[43mrestrict_to_regular_triangulations\u001b[49m\u001b[43m(\u001b[49m\u001b[43m)\u001b[49m\n",
      "File \u001b[0;32m/private/var/tmp/sage-10.4-current/local/var/lib/sage/venv-python3.12.4/lib/python3.12/site-packages/sage/geometry/triangulation/point_configuration.py:801\u001b[0m, in \u001b[0;36mPointConfiguration.restrict_to_regular_triangulations\u001b[0;34m(self, regular)\u001b[0m\n\u001b[1;32m    764\u001b[0m \u001b[38;5;28;01mdef\u001b[39;00m \u001b[38;5;21mrestrict_to_regular_triangulations\u001b[39m(\u001b[38;5;28mself\u001b[39m, regular\u001b[38;5;241m=\u001b[39m\u001b[38;5;28;01mTrue\u001b[39;00m):\n\u001b[1;32m    765\u001b[0m \u001b[38;5;250m    \u001b[39m\u001b[38;5;124;03m\"\"\"\u001b[39;00m\n\u001b[1;32m    766\u001b[0m \u001b[38;5;124;03m    Restrict to regular triangulations.\u001b[39;00m\n\u001b[1;32m    767\u001b[0m \n\u001b[0;32m   (...)\u001b[0m\n\u001b[1;32m    799\u001b[0m \u001b[38;5;124;03m        sage: PointConfiguration.set_engine('internal')\u001b[39;00m\n\u001b[1;32m    800\u001b[0m \u001b[38;5;124;03m    \"\"\"\u001b[39;00m\n\u001b[0;32m--> 801\u001b[0m     \u001b[38;5;28;01mreturn\u001b[39;00m \u001b[43mPointConfiguration\u001b[49m\u001b[43m(\u001b[49m\u001b[38;5;28;43mself\u001b[39;49m\u001b[43m,\u001b[49m\n\u001b[1;32m    802\u001b[0m \u001b[43m                              \u001b[49m\u001b[43mconnected\u001b[49m\u001b[38;5;241;43m=\u001b[39;49m\u001b[38;5;28;43mself\u001b[39;49m\u001b[38;5;241;43m.\u001b[39;49m\u001b[43m_connected\u001b[49m\u001b[43m,\u001b[49m\n\u001b[1;32m    803\u001b[0m \u001b[43m                              \u001b[49m\u001b[43mfine\u001b[49m\u001b[38;5;241;43m=\u001b[39;49m\u001b[38;5;28;43mself\u001b[39;49m\u001b[38;5;241;43m.\u001b[39;49m\u001b[43m_fine\u001b[49m\u001b[43m,\u001b[49m\n\u001b[1;32m    804\u001b[0m \u001b[43m                              \u001b[49m\u001b[43mregular\u001b[49m\u001b[38;5;241;43m=\u001b[39;49m\u001b[43mregular\u001b[49m\u001b[43m,\u001b[49m\n\u001b[1;32m    805\u001b[0m \u001b[43m                              \u001b[49m\u001b[43mstar\u001b[49m\u001b[38;5;241;43m=\u001b[39;49m\u001b[38;5;28;43mself\u001b[39;49m\u001b[38;5;241;43m.\u001b[39;49m\u001b[43m_star\u001b[49m\u001b[43m)\u001b[49m\n",
      "File \u001b[0;32m/private/var/tmp/sage-10.4-current/local/var/lib/sage/venv-python3.12.4/lib/python3.12/site-packages/sage/misc/classcall_metaclass.pyx:321\u001b[0m, in \u001b[0;36msage.misc.classcall_metaclass.ClasscallMetaclass.__call__ (build/cythonized/sage/misc/classcall_metaclass.c:3194)\u001b[0;34m()\u001b[0m\n\u001b[1;32m    319\u001b[0m \"\"\"\n\u001b[1;32m    320\u001b[0m if cls.classcall is not None:\n\u001b[0;32m--> 321\u001b[0m     return cls.classcall(cls, *args, **kwds)\n\u001b[1;32m    322\u001b[0m else:\n\u001b[1;32m    323\u001b[0m     # Fast version of type.__call__(cls, *args, **kwds)\n",
      "File \u001b[0;32m/private/var/tmp/sage-10.4-current/local/var/lib/sage/venv-python3.12.4/lib/python3.12/site-packages/sage/geometry/triangulation/point_configuration.py:328\u001b[0m, in \u001b[0;36mPointConfiguration.__classcall__\u001b[0;34m(cls, points, projective, connected, fine, regular, star)\u001b[0m\n\u001b[1;32m    326\u001b[0m         star_point \u001b[38;5;241m=\u001b[39m \u001b[38;5;28mtuple\u001b[39m(star)\u001b[38;5;241m+\u001b[39m(\u001b[38;5;241m1\u001b[39m,)\n\u001b[1;32m    327\u001b[0m     star \u001b[38;5;241m=\u001b[39m points\u001b[38;5;241m.\u001b[39mindex(star_point)\n\u001b[0;32m--> 328\u001b[0m \u001b[38;5;28;01mreturn\u001b[39;00m \u001b[38;5;28;43msuper\u001b[39;49m\u001b[43m(\u001b[49m\u001b[43m)\u001b[49m\u001b[38;5;241;43m.\u001b[39;49m\u001b[43m__classcall__\u001b[49m\u001b[43m(\u001b[49m\u001b[38;5;28;43mcls\u001b[39;49m\u001b[43m,\u001b[49m\u001b[43m \u001b[49m\u001b[43mpoints\u001b[49m\u001b[43m,\u001b[49m\u001b[43m \u001b[49m\u001b[43mconnected\u001b[49m\u001b[43m,\u001b[49m\u001b[43m \u001b[49m\u001b[43mfine\u001b[49m\u001b[43m,\u001b[49m\n\u001b[1;32m    329\u001b[0m \u001b[43m                             \u001b[49m\u001b[43mregular\u001b[49m\u001b[43m,\u001b[49m\u001b[43m \u001b[49m\u001b[43mstar\u001b[49m\u001b[43m,\u001b[49m\u001b[43m \u001b[49m\u001b[43mdefined_affine\u001b[49m\u001b[43m)\u001b[49m\n",
      "File \u001b[0;32m/private/var/tmp/sage-10.4-current/local/var/lib/sage/venv-python3.12.4/lib/python3.12/site-packages/sage/misc/cachefunc.pyx:1015\u001b[0m, in \u001b[0;36msage.misc.cachefunc.CachedFunction.__call__ (build/cythonized/sage/misc/cachefunc.c:8499)\u001b[0;34m()\u001b[0m\n\u001b[1;32m   1013\u001b[0m         return self.cache[k]\n\u001b[1;32m   1014\u001b[0m except KeyError:\n\u001b[0;32m-> 1015\u001b[0m     w = self.f(*args, **kwds)\n\u001b[1;32m   1016\u001b[0m     self.cache[k] = w\n\u001b[1;32m   1017\u001b[0m     return w\n",
      "File \u001b[0;32m/private/var/tmp/sage-10.4-current/local/var/lib/sage/venv-python3.12.4/lib/python3.12/site-packages/sage/structure/unique_representation.py:1113\u001b[0m, in \u001b[0;36mCachedRepresentation.__classcall__\u001b[0;34m(cls, *args, **options)\u001b[0m\n\u001b[1;32m   1098\u001b[0m \u001b[38;5;129m@weak_cached_function\u001b[39m(cache\u001b[38;5;241m=\u001b[39m\u001b[38;5;241m128\u001b[39m)  \u001b[38;5;66;03m# automatically a staticmethod\u001b[39;00m\n\u001b[1;32m   1099\u001b[0m \u001b[38;5;28;01mdef\u001b[39;00m \u001b[38;5;21m__classcall__\u001b[39m(\u001b[38;5;28mcls\u001b[39m, \u001b[38;5;241m*\u001b[39margs, \u001b[38;5;241m*\u001b[39m\u001b[38;5;241m*\u001b[39moptions):\n\u001b[1;32m   1100\u001b[0m \u001b[38;5;250m    \u001b[39m\u001b[38;5;124;03m\"\"\"\u001b[39;00m\n\u001b[1;32m   1101\u001b[0m \u001b[38;5;124;03m    Construct a new object of this class or reuse an existing one.\u001b[39;00m\n\u001b[1;32m   1102\u001b[0m \n\u001b[0;32m   (...)\u001b[0m\n\u001b[1;32m   1111\u001b[0m \u001b[38;5;124;03m        True\u001b[39;00m\n\u001b[1;32m   1112\u001b[0m \u001b[38;5;124;03m    \"\"\"\u001b[39;00m\n\u001b[0;32m-> 1113\u001b[0m     \u001b[38;5;28;01mreturn\u001b[39;00m \u001b[38;5;28;43msuper\u001b[39;49m\u001b[43m(\u001b[49m\u001b[43m)\u001b[49m\u001b[38;5;241;43m.\u001b[39;49m\u001b[43m__classcall__\u001b[49m\u001b[43m(\u001b[49m\u001b[38;5;28;43mcls\u001b[39;49m\u001b[43m,\u001b[49m\u001b[43m \u001b[49m\u001b[38;5;241;43m*\u001b[39;49m\u001b[43margs\u001b[49m\u001b[43m,\u001b[49m\u001b[43m \u001b[49m\u001b[38;5;241;43m*\u001b[39;49m\u001b[38;5;241;43m*\u001b[39;49m\u001b[43moptions\u001b[49m\u001b[43m)\u001b[49m\n",
      "File \u001b[0;32m/private/var/tmp/sage-10.4-current/local/var/lib/sage/venv-python3.12.4/lib/python3.12/site-packages/sage/structure/unique_representation.py:597\u001b[0m, in \u001b[0;36mWithPicklingByInitArgs.__classcall__\u001b[0;34m(cls, *args, **options)\u001b[0m\n\u001b[1;32m    573\u001b[0m \u001b[38;5;129m@staticmethod\u001b[39m\n\u001b[1;32m    574\u001b[0m \u001b[38;5;28;01mdef\u001b[39;00m \u001b[38;5;21m__classcall__\u001b[39m(\u001b[38;5;28mcls\u001b[39m, \u001b[38;5;241m*\u001b[39margs, \u001b[38;5;241m*\u001b[39m\u001b[38;5;241m*\u001b[39moptions):\n\u001b[1;32m    575\u001b[0m \u001b[38;5;250m    \u001b[39m\u001b[38;5;124;03m\"\"\"\u001b[39;00m\n\u001b[1;32m    576\u001b[0m \u001b[38;5;124;03m    Construct a new object of this class and store the arguments passed to ``__init__``.\u001b[39;00m\n\u001b[1;32m    577\u001b[0m \n\u001b[0;32m   (...)\u001b[0m\n\u001b[1;32m    595\u001b[0m \u001b[38;5;124;03m        False\u001b[39;00m\n\u001b[1;32m    596\u001b[0m \u001b[38;5;124;03m    \"\"\"\u001b[39;00m\n\u001b[0;32m--> 597\u001b[0m     instance \u001b[38;5;241m=\u001b[39m \u001b[43mtypecall\u001b[49m\u001b[43m(\u001b[49m\u001b[38;5;28;43mcls\u001b[39;49m\u001b[43m,\u001b[49m\u001b[43m \u001b[49m\u001b[38;5;241;43m*\u001b[39;49m\u001b[43margs\u001b[49m\u001b[43m,\u001b[49m\u001b[43m \u001b[49m\u001b[38;5;241;43m*\u001b[39;49m\u001b[38;5;241;43m*\u001b[39;49m\u001b[43moptions\u001b[49m\u001b[43m)\u001b[49m\n\u001b[1;32m    598\u001b[0m     \u001b[38;5;28;01massert\u001b[39;00m \u001b[38;5;28misinstance\u001b[39m(instance, \u001b[38;5;28mcls\u001b[39m)\n\u001b[1;32m    599\u001b[0m     \u001b[38;5;28;01mif\u001b[39;00m instance\u001b[38;5;241m.\u001b[39m\u001b[38;5;18m__class__\u001b[39m\u001b[38;5;241m.\u001b[39m__reduce__ \u001b[38;5;241m==\u001b[39m WithPicklingByInitArgs\u001b[38;5;241m.\u001b[39m__reduce__:\n",
      "File \u001b[0;32m/private/var/tmp/sage-10.4-current/local/var/lib/sage/venv-python3.12.4/lib/python3.12/site-packages/sage/misc/classcall_metaclass.pyx:472\u001b[0m, in \u001b[0;36msage.misc.classcall_metaclass.typecall (build/cythonized/sage/misc/classcall_metaclass.c:3647)\u001b[0;34m()\u001b[0m\n\u001b[1;32m    470\u001b[0m     2\n\u001b[1;32m    471\u001b[0m \"\"\"\n\u001b[0;32m--> 472\u001b[0m return (<PyTypeObject*>type).tp_call(cls, args, kwds)\n\u001b[1;32m    473\u001b[0m \n\u001b[1;32m    474\u001b[0m \n",
      "File \u001b[0;32m/private/var/tmp/sage-10.4-current/local/var/lib/sage/venv-python3.12.4/lib/python3.12/site-packages/sage/geometry/triangulation/point_configuration.py:360\u001b[0m, in \u001b[0;36mPointConfiguration.__init__\u001b[0;34m(self, points, connected, fine, regular, star, defined_affine)\u001b[0m\n\u001b[1;32m    358\u001b[0m \u001b[38;5;28mself\u001b[39m\u001b[38;5;241m.\u001b[39m_regular \u001b[38;5;241m=\u001b[39m regular\n\u001b[1;32m    359\u001b[0m \u001b[38;5;28;01mif\u001b[39;00m regular \u001b[38;5;129;01mis\u001b[39;00m \u001b[38;5;129;01mnot\u001b[39;00m \u001b[38;5;28;01mNone\u001b[39;00m \u001b[38;5;129;01mand\u001b[39;00m \u001b[38;5;129;01mnot\u001b[39;00m PointConfiguration\u001b[38;5;241m.\u001b[39m_have_TOPCOM():\n\u001b[0;32m--> 360\u001b[0m     \u001b[38;5;28;01mraise\u001b[39;00m \u001b[38;5;167;01mValueError\u001b[39;00m(\u001b[38;5;124m'\u001b[39m\u001b[38;5;124mYou must install TOPCOM to test for regularity.\u001b[39m\u001b[38;5;124m'\u001b[39m)\n\u001b[1;32m    362\u001b[0m \u001b[38;5;28;01massert\u001b[39;00m star \u001b[38;5;129;01mis\u001b[39;00m \u001b[38;5;28;01mNone\u001b[39;00m \u001b[38;5;129;01mor\u001b[39;00m star \u001b[38;5;129;01min\u001b[39;00m ZZ, \u001b[38;5;124m'\u001b[39m\u001b[38;5;124mUnknown value: fine=\u001b[39m\u001b[38;5;124m'\u001b[39m \u001b[38;5;241m+\u001b[39m \u001b[38;5;28mstr\u001b[39m(star)\n\u001b[1;32m    363\u001b[0m \u001b[38;5;28mself\u001b[39m\u001b[38;5;241m.\u001b[39m_star \u001b[38;5;241m=\u001b[39m star\n",
      "\u001b[0;31mValueError\u001b[0m: You must install TOPCOM to test for regularity."
     ]
    }
   ],
   "source": [
    "p = PointConfiguration([[0,0], [0,1], [1,0], [1,1], [-1,-1]]); \n",
    "p.restrict_to_connected_triangulations()\n",
    "p.restrict_to_fine_triangulations()\n",
    "p.restrict_to_regular_triangulations()\n"
   ]
  },
  {
   "cell_type": "code",
   "execution_count": 8,
   "metadata": {},
   "outputs": [
    {
     "name": "stdout",
     "output_type": "stream",
     "text": [
      "made\n",
      "made\n"
     ]
    }
   ],
   "source": [
    "from cymetric.sage.sagelib import prepare_toric_cy_data\n",
    "import os as os\n",
    "# Quintic vertices\n",
    "vertices = [\n",
    "   [1, 0, 0, 0], [0, 1, 0, 0], [0, 0, 1, 0], [0, 0, 0, 1], [-1, -1, -1, -1]\n",
    "]\n",
    "origin = [0 for _ in range(len(vertices[0]))]\n",
    "polytope = LatticePolytope(vertices)\n",
    "pConfig = PointConfiguration(polytope.points(), star=origin)\n",
    "print(\"made\")\n",
    "#set to topcom for more efficient triangulations\n",
    "pConfig.set_engine(\"internal\")\n",
    "print(\"made\")\n",
    "# restrict to fine star regular.\n",
    "triangulations = pConfig.restrict_to_connected_triangulations()\n",
    "triangulations = triangulations.restrict_to_fine_triangulations()\n",
    "#triangulations = triangulations.restrict_to_regular_triangulations()\n",
    "triangulations = triangulations.restrict_to_star_triangulations(origin)\n",
    "#take first triangulation; build fan and TV\n",
    "triang = triangulations.triangulate()\n",
    "tv_fan = triang.fan()\n",
    "TV = ToricVariety(tv_fan)\n",
    "fname = os.path.join('fermat_pgtoricmath', 'toric_data.pickle')\n",
    "toric_data = prepare_toric_cy_data(TV, fname)"
   ]
  },
  {
   "cell_type": "markdown",
   "metadata": {},
   "source": [
    "We are now in a position to go back to our regular python kernel or simply continue in Sage and load the *PointGeneratorToricMathematica*."
   ]
  },
  {
   "cell_type": "code",
   "execution_count": null,
   "metadata": {},
   "outputs": [],
   "source": []
  },
  {
   "cell_type": "code",
   "execution_count": 38,
   "metadata": {},
   "outputs": [],
   "source": [
    "from cymetric.pointgen.pointgen_mathematica import ToricPointGeneratorMathematica"
   ]
  },
  {
   "cell_type": "markdown",
   "metadata": {},
   "source": [
    "Let us look at the information that has been written to *toric_data.pickle*."
   ]
  },
  {
   "cell_type": "code",
   "execution_count": 11,
   "metadata": {},
   "outputs": [],
   "source": [
    "import pickle"
   ]
  },
  {
   "cell_type": "code",
   "execution_count": 12,
   "metadata": {},
   "outputs": [
    {
     "name": "stdout",
     "output_type": "stream",
     "text": [
      "dim_cy\n",
      "3\n",
      "vol_j_norm\n",
      "5\n",
      "coeff_aK\n",
      "[(-1.9901231913016204-0.5394472358209468j), (-0.6162604606658445-1.1311105917007802j), (0.5465070356490355+1.0270690861523621j), (0.800524062132159+1.6862662530436507j), (-0.46280729403563486-0.5437361270890179j), (-0.6174798290489638-1.4190378534896697j), (-0.19619697497568406+0.10832419437594047j), (-0.3092467328629806+0.17425761549463384j), (-1.6857303584296655-0.48587464419251714j), (0.10748807422719218-1.2191596060229448j), (-0.2609325815788677+0.29575126277079494j), (0.5140844866932182-0.9413934907898371j), (1.5218365139602716+0.11117215433340737j), (0.3875235041306566+0.4365588444278264j), (-0.9070377602288187-1.294346884962662j), (0.7296701357181227-1.006386272781616j), (2.1468722882046043-0.23302624278543504j), (-0.26583209319507833-0.7418961179720107j), (1.5297987405633624-2.745188583418355j), (1.6069642223255536-0.4682570840334239j), (-1.0515193969163035-1.195436133566121j), (-0.5963367266090399+0.7185328826906052j), (-1.4563602922559098-0.7935995848597425j), (-0.6445700638586532-0.25118184840605756j), (-1.3245627293091389+1.7334939545508306j), (0.5887089173543145+0.17332793958960163j), (-1.0256519110033762+2.320941586088857j), (0.922382449902498-0.7655160028771855j), (0.29799039408557393-0.16114055847176323j), (-1.3221599554964591+1.3259992730139045j), (1.409433444595849+0.07491287636095045j), (-0.43899025970483385-0.45596475328521097j), (-1.085584832602243-0.6623533482366597j), (0.3444525960450389-0.6172557412245047j), (-0.5807592829506313+1.063038239768811j), (0.4521772027605911+1.0379396673430188j), (-0.6726987248886126-0.9246554314600883j), (-0.3733913136021525-1.5463745173953738j), (-0.38667003218112783+0.16306568276711586j), (1.6908848494219535-0.18078499757674063j), (0.016773650126966796-0.795113988122374j), (0.5616093444906184+0.8736581233440137j), (-0.24410562677187597+0.14365869852899604j), (-1.2917846275657912-0.575149241569017j), (-0.22139334224003937+1.4147344809188376j), (-0.17231601635665306-0.4330087362378094j), (0.045922164899290976+2.2446652228001507j), (-0.018109761315012577+0.33474648833617104j), (-0.04556439828701942+1.4508726469221462j), (-0.2419552296405562+0.5431806026818122j), (-0.9108863303971623+0.8556541037301153j), (0.09787008342153429-1.2725433396960926j), (1.6163536979143045-0.25903885333991916j), (-0.14680454054328956+0.0999252163972955j), (0.3085488368013651-1.0901716599628541j), (-1.855525855541277-0.5856261351219447j), (-1.1810980716462682-1.7438799882924727j), (2.6261907003716414-0.7892945485666495j), (0.056294277804905556-2.113922905392808j), (-0.10093669925636446-0.7560251300399192j), (-0.45194367569057503-0.826797236108381j), (-0.5093816379076546+0.8845554703614009j), (1.820509303443545+1.3082127155918106j), (-1.0949763929948637+1.6043600908388023j), (-0.45722376707748674-0.8490096872116923j), (-0.7070058890341695-1.1115911315882658j), (0.6785408371319931+0.4422023498964343j), (-1.11914917745528+0.6310556462075415j), (-0.3317177947566941-0.28219092041631244j), (0.9514585670330068+0.24829015847174787j), (0.21378949883674875-0.4207393535775822j), (-0.14014642780072809-1.7548691443872766j), (2.309224719101966-0.7349914633298013j), (-0.42532886000339964+0.5498082324807537j), (-3.1661167269432293-1.5395410837293342j), (-1.7059578834665272+0.7677858850229038j), (-0.47979791506951863+0.4296460474275438j), (0.9632261393609017-1.5677568337791612j), (-1.5093926839364806-0.8797717042331429j), (-0.15726597738917508+0.7246424021160195j), (-1.7161755040385644-0.10863085189864377j), (0.898345280758984+0.3928954330313116j), (0.45005061287818665-0.39759283079561j), (0.1530447800421878+0.5093715273413291j), (0.639965157276358+0.1472574709248666j), (1.1445936406106467-1.8222973028071805j), (-1.8208544239657316-0.04805848902307229j), (-0.9011903359654129+0.6806914380256646j), (-0.465899893107779-0.3765179739278339j), (-0.23686518033185683-0.12337451048747411j), (-1.842960162128091-0.8086115479991749j), (1.8455787364683514-1.5725682774400147j), (0.11771991246074581-3.4996073111576016j), (0.3809423271695665-0.5837462663413725j), (-1.0201605450895312-1.536086369699456j), (0.8143180507801601+0.8970746344558486j), (0.19836369683373078-0.3802093527700963j), (-1.4687319624733393-0.1836930930407718j), (0.17562529908057126-1.357816399221027j), (0.09526932570611302+0.07866870828181108j), (-1.8670519669610017-0.1452646602378817j), (-1.9077458436359056+1.243360046617093j), (1.6514545338163957-1.4356767427978259j), (-0.5552294791245787+0.6049759348217283j), (1.6292616519296717+0.7458895554628916j), (-0.5012486327767811-0.1614021478550838j), (2.0942131744797154+0.00015607016945956619j), (0.2670122800630607+0.5574512889757164j), (0.04404706012981401-0.40316264495945203j), (-0.8392986232588191-0.2980835806618514j), (-0.41721574883314816+0.524026479743014j), (0.09600157098303586+1.7913803698141915j), (-0.02706130125863006-0.8616918307930862j), (0.17878075915308977+1.04756610055919j), (0.9319996031149369+0.3778751460151119j), (-0.17052764275536714-0.4051771150477062j), (0.44809359626853673+0.03179973224568457j), (-0.34037230537439617-1.296747001450089j), (-0.21556508963527557-0.0213328628371543j), (-0.9925240876735725+0.22464389229786183j), (-2.3250258428400814-1.1900422550450651j), (0.4799506513064434-0.10524164905898586j), (-1.1160874484389596+1.5378025583054096j), (-1.046379281101161+0.4810696143884745j), (-0.281622384509195-0.8499894003484184j), (-0.4664899401893963-0.2094700225268045j)]\n",
      "exp_aK\n",
      "[[0, 0, 0, 0, 5], [0, 0, 0, 1, 4], [0, 0, 0, 2, 3], [0, 0, 0, 3, 2], [0, 0, 0, 4, 1], [0, 0, 0, 5, 0], [0, 0, 1, 0, 4], [0, 0, 1, 1, 3], [0, 0, 1, 2, 2], [0, 0, 1, 3, 1], [0, 0, 1, 4, 0], [0, 0, 2, 0, 3], [0, 0, 2, 1, 2], [0, 0, 2, 2, 1], [0, 0, 2, 3, 0], [0, 0, 3, 0, 2], [0, 0, 3, 1, 1], [0, 0, 3, 2, 0], [0, 0, 4, 0, 1], [0, 0, 4, 1, 0], [0, 0, 5, 0, 0], [0, 1, 0, 0, 4], [0, 1, 0, 1, 3], [0, 1, 0, 2, 2], [0, 1, 0, 3, 1], [0, 1, 0, 4, 0], [0, 1, 1, 0, 3], [0, 1, 1, 1, 2], [0, 1, 1, 2, 1], [0, 1, 1, 3, 0], [0, 1, 2, 0, 2], [0, 1, 2, 1, 1], [0, 1, 2, 2, 0], [0, 1, 3, 0, 1], [0, 1, 3, 1, 0], [0, 1, 4, 0, 0], [0, 2, 0, 0, 3], [0, 2, 0, 1, 2], [0, 2, 0, 2, 1], [0, 2, 0, 3, 0], [0, 2, 1, 0, 2], [0, 2, 1, 1, 1], [0, 2, 1, 2, 0], [0, 2, 2, 0, 1], [0, 2, 2, 1, 0], [0, 2, 3, 0, 0], [0, 3, 0, 0, 2], [0, 3, 0, 1, 1], [0, 3, 0, 2, 0], [0, 3, 1, 0, 1], [0, 3, 1, 1, 0], [0, 3, 2, 0, 0], [0, 4, 0, 0, 1], [0, 4, 0, 1, 0], [0, 4, 1, 0, 0], [0, 5, 0, 0, 0], [1, 0, 0, 0, 4], [1, 0, 0, 1, 3], [1, 0, 0, 2, 2], [1, 0, 0, 3, 1], [1, 0, 0, 4, 0], [1, 0, 1, 0, 3], [1, 0, 1, 1, 2], [1, 0, 1, 2, 1], [1, 0, 1, 3, 0], [1, 0, 2, 0, 2], [1, 0, 2, 1, 1], [1, 0, 2, 2, 0], [1, 0, 3, 0, 1], [1, 0, 3, 1, 0], [1, 0, 4, 0, 0], [1, 1, 0, 0, 3], [1, 1, 0, 1, 2], [1, 1, 0, 2, 1], [1, 1, 0, 3, 0], [1, 1, 1, 0, 2], [1, 1, 1, 1, 1], [1, 1, 1, 2, 0], [1, 1, 2, 0, 1], [1, 1, 2, 1, 0], [1, 1, 3, 0, 0], [1, 2, 0, 0, 2], [1, 2, 0, 1, 1], [1, 2, 0, 2, 0], [1, 2, 1, 0, 1], [1, 2, 1, 1, 0], [1, 2, 2, 0, 0], [1, 3, 0, 0, 1], [1, 3, 0, 1, 0], [1, 3, 1, 0, 0], [1, 4, 0, 0, 0], [2, 0, 0, 0, 3], [2, 0, 0, 1, 2], [2, 0, 0, 2, 1], [2, 0, 0, 3, 0], [2, 0, 1, 0, 2], [2, 0, 1, 1, 1], [2, 0, 1, 2, 0], [2, 0, 2, 0, 1], [2, 0, 2, 1, 0], [2, 0, 3, 0, 0], [2, 1, 0, 0, 2], [2, 1, 0, 1, 1], [2, 1, 0, 2, 0], [2, 1, 1, 0, 1], [2, 1, 1, 1, 0], [2, 1, 2, 0, 0], [2, 2, 0, 0, 1], [2, 2, 0, 1, 0], [2, 2, 1, 0, 0], [2, 3, 0, 0, 0], [3, 0, 0, 0, 2], [3, 0, 0, 1, 1], [3, 0, 0, 2, 0], [3, 0, 1, 0, 1], [3, 0, 1, 1, 0], [3, 0, 2, 0, 0], [3, 1, 0, 0, 1], [3, 1, 0, 1, 0], [3, 1, 1, 0, 0], [3, 2, 0, 0, 0], [4, 0, 0, 0, 1], [4, 0, 0, 1, 0], [4, 0, 1, 0, 0], [4, 1, 0, 0, 0], [5, 0, 0, 0, 0]]\n",
      "exps_sections\n",
      "[[[0, 0, 0, 0, 1], [0, 0, 0, 1, 0], [0, 0, 1, 0, 0], [0, 1, 0, 0, 0], [1, 0, 0, 0, 0]]]\n",
      "patch_masks\n",
      "[[0, 0, 0, 0, 1], [0, 0, 0, 1, 0], [0, 0, 1, 0, 0], [0, 1, 0, 0, 0], [1, 0, 0, 0, 0]]\n",
      "glsm_charges\n",
      "[[1, 1, 1, 1, 1]]\n",
      "non_ci_coeffs\n",
      "[]\n",
      "non_ci_exps\n",
      "[]\n",
      "int_nums\n",
      "[[[5]]]\n"
     ]
    }
   ],
   "source": [
    "dirname = 'fermat_pgtoricmath'\n",
    "with open(os.path.join(dirname, 'toric_data.pickle'), 'rb') as f:\n",
    "    toric_data = pickle.load(f)\n",
    "for key in toric_data:\n",
    "    print(key)\n",
    "    print(toric_data[key])"
   ]
  },
  {
   "cell_type": "code",
   "execution_count": 39,
   "metadata": {
    "scrolled": true
   },
   "outputs": [
    {
     "name": "stdout",
     "output_type": "stream",
     "text": [
      "dim_cy\n",
      "3\n",
      "vol_j_norm\n",
      "5\n",
      "coeff_aK\n",
      "[(-0.43795865346198354-1.4542068566020145j), (-0.5203024576289269+2.1810382707504217j), (0.45817739345475533+0.04311395544837721j), (-0.716740668008019+1.6976606816292115j), (1.5039294225696025-1.5158191785465278j), (2.0922840847678352-0.5521020864561111j), (-1.4031308057655576-1.8901548032310274j), (-0.9181269194170236-0.0758327935331521j), (0.5253573750171391+0.21883792874435123j), (0.5173883215219727+2.4216698870875164j), (-1.3787829823445295+0.12499343655331319j), (0.394330611167441-0.17988619298686628j), (-2.252063967252686+0.7643962704166481j), (-0.4608102893199299-0.2595710212508222j), (-0.30183402484417726-0.705006347386717j), (-2.668524488761039-1.4979033181760775j), (-0.21962876151779193-1.6581911705103363j), (-0.09103550588927627+1.3264505309783994j), (0.5060075119224862+2.150661416503481j), (-0.16641488219468464-1.5800538625519214j), (-0.8531180804834545-1.2809549067122166j), (0.5252271458345619+2.745537936682657j), (-0.2838190922800839+1.643158335803039j), (-0.4850452808850137+1.208305637143498j), (-1.4607776763656288-0.46034456211069885j), (0.8080831126671673+0.6882656619850556j), (-0.4771397678488041+0.13404752755564325j), (-0.04605087622620221+0.7433174994594142j), (-0.3219946848206458-0.3688930919688613j), (0.5960711799521539-0.28283128427108467j), (-1.2243614144952821+0.5031300855164473j), (1.0690985770649193+0.43425494037150114j), (-0.3669965560470806+1.017472241028473j), (0.669004478927464+0.634012011720421j), (-0.13818594975227547-0.10259474634217639j), (-1.997766284203912-0.9589585734588847j), (1.3465089516254303+0.6074409511844835j), (-1.1525561792661971-1.4438042061824397j), (0.22818967699128279+1.287800631726714j), (-1.7304693136902265-0.46154831878996994j), (-0.2105180607928119-0.3154162767224778j), (0.747900185281886-0.7321780522303789j), (-0.24040477168027757-0.6525040550475367j), (0.22199353772743308-0.37103937903196305j), (0.5456845674564901+2.3554313780548988j), (0.2291713476204334-0.6066278739172839j), (-1.061300252417677-0.5619152636390806j), (0.05038445127215381-0.7964256697240033j), (-1.3586822378027836-0.20679314846633737j), (0.28682949858559126-1.3620569568084158j), (0.4749807683379312+0.4456233575216321j), (-0.8239225548942182-1.4412718062901497j), (1.0641737780553342-0.4889420107857395j), (0.8641690781802481-0.5549012339697018j), (-0.11083627995678322+0.9603834909790799j), (1.3701028878623278+0.7047825214116937j), (0.5973574313650325-1.1075694419151736j), (-0.3983555011841688-1.2992016279847187j), (-0.6266602881302483+1.142909370000649j), (-0.187306264686149-1.0166154067382507j), (-0.5561496871253567-0.47377202150612985j), (0.7763656745206263-0.9251286235645386j), (0.08315374374454383-0.5981939990097945j), (0.08100680893225119-0.41779024469328746j), (0.2421772265159617+0.09163497160832283j), (-0.6505225294816633-0.5142448959416643j), (0.055205333221825796-1.0867097844772369j), (-0.11801091248170342-0.83591710239481j), (0.31025696655768165+2.788004307274098j), (-1.1479579306566923+0.9628691420458799j), (0.49755866536508286-1.0727901335813375j), (0.4512414690505545-0.9837162633239356j), (0.08709020490993882-1.386579313342164j), (-0.9621269083645145+1.1480679467417005j), (0.6087010432487304+0.901845302344366j), (-1.0596652767087182-0.09790937499173298j), (-0.3470020214726798-1.0830678254825723j), (0.3040690769578502-0.5001468641422433j), (-0.8215276993493171-0.0069734673508368775j), (-0.8628460874703114+0.7637299865945688j), (0.11909836055524775+1.2750143245000163j), (-2.0863490591418303+1.0816424564731477j), (-1.3805429085653538-0.0747703576181415j), (-0.27853260575612987-0.7928557462579776j), (0.6985515254983745+0.9921725226484694j), (-0.5329693910081085-0.24479268724122671j), (2.113054055660029+0.2248621934234698j), (-0.9136798769207761+2.4840650550289896j), (-0.6363317583542623-0.8348946384454847j), (-1.5140245163948527-0.8127611770194565j), (0.9928824102260165-1.0274362819184193j), (0.051089450812324654-0.10688055446907065j), (2.0200211383141213+0.10140157535826017j), (0.9403977289303971-0.4624008600569476j), (-0.7437387171713374-0.15719355757254125j), (1.1489273003966567+1.5460376473041728j), (-0.7780339099089003+0.7845326731564877j), (-0.7234465178879461+0.7643905933110442j), (-1.6474436057829078-0.7940206677401842j), (0.6397917062131412-0.5584495509693331j), (-1.3176654362414233-0.2631702523987984j), (0.1160949804086321-0.025566452567793403j), (-1.0968730400646278-1.116185472168231j), (0.7640101180257716-3.3095988042024045j), (0.37710351990284424-1.104324476417268j), (-1.5023637498437086-0.6790258030178666j), (0.148430633126722+0.08495436314305116j), (0.4826505609007474+0.7055222427947415j), (0.4181789566387666+1.4440552870349481j), (-0.15812280950692031-1.5596109841158305j), (0.24374975398305626+0.2648046419176323j), (2.1649507188524186-0.4137019450687239j), (0.6865423708993508+0.8870553773285832j), (0.4893530821537379+0.1849044050538484j), (-0.23031560756890115-2.4834949655271426j), (0.030945653980761188+1.1749309307992057j), (0.23530612430742984+3.2077568606888627j), (0.5937058176506144-2.105602174706972j), (-0.42339605400519376-1.4216030646788194j), (-0.21473060792270224-0.7046030118592784j), (0.26697333510915244-1.8864010903201107j), (0.40316738003377806+1.0365669570218268j), (0.30473500874731285+1.0929814014397221j), (0.34172472670295434+0.7203914507997183j), (-1.1998157337371227+0.3437616931461626j), (-0.9617435939199388+0.9988684099928888j)]\n",
      "exp_aK\n",
      "[[0, 0, 0, 0, 5], [0, 0, 0, 1, 4], [0, 0, 0, 2, 3], [0, 0, 0, 3, 2], [0, 0, 0, 4, 1], [0, 0, 0, 5, 0], [0, 0, 1, 0, 4], [0, 0, 1, 1, 3], [0, 0, 1, 2, 2], [0, 0, 1, 3, 1], [0, 0, 1, 4, 0], [0, 0, 2, 0, 3], [0, 0, 2, 1, 2], [0, 0, 2, 2, 1], [0, 0, 2, 3, 0], [0, 0, 3, 0, 2], [0, 0, 3, 1, 1], [0, 0, 3, 2, 0], [0, 0, 4, 0, 1], [0, 0, 4, 1, 0], [0, 0, 5, 0, 0], [0, 1, 0, 0, 4], [0, 1, 0, 1, 3], [0, 1, 0, 2, 2], [0, 1, 0, 3, 1], [0, 1, 0, 4, 0], [0, 1, 1, 0, 3], [0, 1, 1, 1, 2], [0, 1, 1, 2, 1], [0, 1, 1, 3, 0], [0, 1, 2, 0, 2], [0, 1, 2, 1, 1], [0, 1, 2, 2, 0], [0, 1, 3, 0, 1], [0, 1, 3, 1, 0], [0, 1, 4, 0, 0], [0, 2, 0, 0, 3], [0, 2, 0, 1, 2], [0, 2, 0, 2, 1], [0, 2, 0, 3, 0], [0, 2, 1, 0, 2], [0, 2, 1, 1, 1], [0, 2, 1, 2, 0], [0, 2, 2, 0, 1], [0, 2, 2, 1, 0], [0, 2, 3, 0, 0], [0, 3, 0, 0, 2], [0, 3, 0, 1, 1], [0, 3, 0, 2, 0], [0, 3, 1, 0, 1], [0, 3, 1, 1, 0], [0, 3, 2, 0, 0], [0, 4, 0, 0, 1], [0, 4, 0, 1, 0], [0, 4, 1, 0, 0], [0, 5, 0, 0, 0], [1, 0, 0, 0, 4], [1, 0, 0, 1, 3], [1, 0, 0, 2, 2], [1, 0, 0, 3, 1], [1, 0, 0, 4, 0], [1, 0, 1, 0, 3], [1, 0, 1, 1, 2], [1, 0, 1, 2, 1], [1, 0, 1, 3, 0], [1, 0, 2, 0, 2], [1, 0, 2, 1, 1], [1, 0, 2, 2, 0], [1, 0, 3, 0, 1], [1, 0, 3, 1, 0], [1, 0, 4, 0, 0], [1, 1, 0, 0, 3], [1, 1, 0, 1, 2], [1, 1, 0, 2, 1], [1, 1, 0, 3, 0], [1, 1, 1, 0, 2], [1, 1, 1, 1, 1], [1, 1, 1, 2, 0], [1, 1, 2, 0, 1], [1, 1, 2, 1, 0], [1, 1, 3, 0, 0], [1, 2, 0, 0, 2], [1, 2, 0, 1, 1], [1, 2, 0, 2, 0], [1, 2, 1, 0, 1], [1, 2, 1, 1, 0], [1, 2, 2, 0, 0], [1, 3, 0, 0, 1], [1, 3, 0, 1, 0], [1, 3, 1, 0, 0], [1, 4, 0, 0, 0], [2, 0, 0, 0, 3], [2, 0, 0, 1, 2], [2, 0, 0, 2, 1], [2, 0, 0, 3, 0], [2, 0, 1, 0, 2], [2, 0, 1, 1, 1], [2, 0, 1, 2, 0], [2, 0, 2, 0, 1], [2, 0, 2, 1, 0], [2, 0, 3, 0, 0], [2, 1, 0, 0, 2], [2, 1, 0, 1, 1], [2, 1, 0, 2, 0], [2, 1, 1, 0, 1], [2, 1, 1, 1, 0], [2, 1, 2, 0, 0], [2, 2, 0, 0, 1], [2, 2, 0, 1, 0], [2, 2, 1, 0, 0], [2, 3, 0, 0, 0], [3, 0, 0, 0, 2], [3, 0, 0, 1, 1], [3, 0, 0, 2, 0], [3, 0, 1, 0, 1], [3, 0, 1, 1, 0], [3, 0, 2, 0, 0], [3, 1, 0, 0, 1], [3, 1, 0, 1, 0], [3, 1, 1, 0, 0], [3, 2, 0, 0, 0], [4, 0, 0, 0, 1], [4, 0, 0, 1, 0], [4, 0, 1, 0, 0], [4, 1, 0, 0, 0], [5, 0, 0, 0, 0]]\n",
      "exps_sections\n",
      "[[[0, 0, 0, 0, 1], [0, 0, 0, 1, 0], [0, 0, 1, 0, 0], [0, 1, 0, 0, 0], [1, 0, 0, 0, 0]]]\n",
      "patch_masks\n",
      "[[0, 0, 0, 0, 1], [0, 0, 0, 1, 0], [0, 0, 1, 0, 0], [0, 1, 0, 0, 0], [1, 0, 0, 0, 0]]\n",
      "glsm_charges\n",
      "[[1, 1, 1, 1, 1]]\n",
      "non_ci_coeffs\n",
      "[]\n",
      "non_ci_exps\n",
      "[]\n",
      "int_nums\n",
      "[[[5]]]\n"
     ]
    }
   ],
   "source": [
    "dirname = 'fermat_pgtoricmath'\n",
    "with open(os.path.join(dirname, 'toric_data.pickle'), 'rb') as f:\n",
    "    toric_data = pickle.load(f)\n",
    "for key in toric_data:\n",
    "    print(key)\n",
    "    print(toric_data[key])"
   ]
  },
  {
   "cell_type": "markdown",
   "metadata": {},
   "source": [
    "We have the following keys:\n",
    "\n",
    "1. \"dim_cy\": contains the dimension of the Calabi-Yau.\n",
    "2. \"vol_j_norm\": information for normalization of weights.\n",
    "2. \"coeff_aK\": are generic complex coefficients in front of each of the defining hypersurface monomials, which you get from the Batyrev construction. Note: Those are by default complex valued as they represent a (redundant) description of the complex moduli.\n",
    "3. \"exp_aK\": is the monomial basis for the defining equation.\n",
    "4. \"exps_sections\": is a monomial basis for the sections of the kähler cone generators. This one will be needed to generate the integration weights and a Kähler metric in the same Kähler class as our Ricci-flat metric.\n",
    "5. \"patch_masks\": are (boolean) coordinate masks for all the patches in the TV.\n",
    "6. \"glsm_charges\": are the GLSM charges of the TV.\n",
    "7. \"non_ci_coeffs\": when sampling points, we use the projecitivized 0th cohomology class of the Kahler cone generators. There can be non-complete-intersection relations among the sections, which are encoded in the non_ci_coeffs and the non_ci_exps.\n",
    "8. \"non_ci_exps\": The exponents of all Kahler cone generator sections\n",
    "9. \"int_nums\": are the intersection numbers of the TV.\n",
    "\n",
    "Having loaded the toric_data we can initialize the ToricPointGenerator"
   ]
  },
  {
   "cell_type": "code",
   "execution_count": 13,
   "metadata": {},
   "outputs": [
    {
     "ename": "NameError",
     "evalue": "name 'ToricPointGeneratorMathematica' is not defined",
     "output_type": "error",
     "traceback": [
      "\u001b[0;31m---------------------------------------------------------------------------\u001b[0m",
      "\u001b[0;31mNameError\u001b[0m                                 Traceback (most recent call last)",
      "Cell \u001b[0;32mIn[13], line 1\u001b[0m\n\u001b[0;32m----> 1\u001b[0m pgtoricmath_gen \u001b[38;5;241m=\u001b[39m \u001b[43mToricPointGeneratorMathematica\u001b[49m(toric_data, kmoduli)\n",
      "\u001b[0;31mNameError\u001b[0m: name 'ToricPointGeneratorMathematica' is not defined"
     ]
    }
   ],
   "source": [
    "pgtoricmath_gen = ToricPointGeneratorMathematica(toric_data, kmoduli)"
   ]
  },
  {
   "cell_type": "markdown",
   "metadata": {},
   "source": [
    "We now have a generic quintic with coefficients in front of all 125 monomials.\n",
    "\n",
    "What if we only want the Fermat Quintic? We can override the information in \"coeff_aK\" and \"exp_aK\" with e.g."
   ]
  },
  {
   "cell_type": "code",
   "execution_count": 41,
   "metadata": {},
   "outputs": [],
   "source": [
    "toric_data[\"coeff_aK\"] = coefficients\n",
    "toric_data[\"exp_aK\"] = monomials"
   ]
  },
  {
   "cell_type": "markdown",
   "metadata": {},
   "source": [
    "and"
   ]
  },
  {
   "cell_type": "code",
   "execution_count": 42,
   "metadata": {},
   "outputs": [],
   "source": [
    "pgtoricmath = ToricPointGeneratorMathematica(toric_data, kmoduli)"
   ]
  },
  {
   "cell_type": "markdown",
   "metadata": {},
   "source": [
    "we continue just as before with creating a dataset"
   ]
  },
  {
   "cell_type": "code",
   "execution_count": 43,
   "metadata": {},
   "outputs": [
    {
     "name": "stderr",
     "output_type": "stream",
     "text": [
      "WolframKernel-<tcp://127.0.0.1:58331>:INFO:Connected to logging socket: tcp://127.0.0.1:58331\n",
      "WolframKernel-<tcp://127.0.0.1:58331>:INFO:Number of points on CY from one ambient space intersection: 5\n",
      "WolframKernel-<tcp://127.0.0.1:58331>:INFO:Now generating 100000 points...\n",
      "WolframKernel-<tcp://127.0.0.1:58331>:INFO:Generated 0% of points\n",
      "WolframKernel-<tcp://127.0.0.1:58331>:INFO:Generated 5% of points\n",
      "WolframKernel-<tcp://127.0.0.1:58331>:INFO:Generated 10% of points\n",
      "WolframKernel-<tcp://127.0.0.1:58331>:INFO:Generated 15% of points\n",
      "WolframKernel-<tcp://127.0.0.1:58331>:INFO:Generated 20% of points\n",
      "WolframKernel-<tcp://127.0.0.1:58331>:INFO:Generated 25% of points\n",
      "WolframKernel-<tcp://127.0.0.1:58331>:INFO:Generated 30% of points\n",
      "WolframKernel-<tcp://127.0.0.1:58331>:INFO:Generated 35% of points\n",
      "WolframKernel-<tcp://127.0.0.1:58331>:INFO:Generated 40% of points\n",
      "WolframKernel-<tcp://127.0.0.1:58331>:INFO:Generated 45% of points\n",
      "WolframKernel-<tcp://127.0.0.1:58331>:INFO:Generated 50% of points\n",
      "WolframKernel-<tcp://127.0.0.1:58331>:INFO:Generated 55% of points\n",
      "WolframKernel-<tcp://127.0.0.1:58331>:INFO:Generated 60% of points\n",
      "WolframKernel-<tcp://127.0.0.1:58331>:INFO:Generated 65% of points\n",
      "WolframKernel-<tcp://127.0.0.1:58331>:INFO:Generated 70% of points\n",
      "WolframKernel-<tcp://127.0.0.1:58331>:INFO:Generated 75% of points\n",
      "WolframKernel-<tcp://127.0.0.1:58331>:INFO:Generated 80% of points\n",
      "WolframKernel-<tcp://127.0.0.1:58331>:INFO:Generated 85% of points\n",
      "WolframKernel-<tcp://127.0.0.1:58331>:INFO:Generated 90% of points\n",
      "WolframKernel-<tcp://127.0.0.1:58331>:INFO:Generated 95% of points\n",
      "WolframKernel-<tcp://127.0.0.1:58331>:INFO:done.\n",
      "pointgen:INFO:Vol_k: 5.000000000000001, Vol_cy: 285.2045154925178.\n"
     ]
    }
   ],
   "source": [
    "kappa = pgtoricmath.prepare_dataset(n_p, dirname)"
   ]
  },
  {
   "cell_type": "markdown",
   "metadata": {},
   "source": [
    "We note, that the data generation again took quite some time even though there should just be a single hypersurface. We also optimize w.r.t. to the sections coming from the Kähler generators and thus have more than a single hypersurface to consider.\n",
    "\n",
    "Also, if you paid close attention to the output, you might have noticed that both Vol_k and Vol_cy are larger by a factor of 5 as compared to the other point generators. This is because the toric model does calculate the correct normalization (i.e. such that vol(X)$=\\int J^3=d_{ijk}t^ict^j t^k=\\text{mean}(\\text{det}(g)/|\\Omega|^2 w$) from the triple intersection numbers. To get the same behavior for the other point generators, you need to pass the argument vol_j_norm=5 to the generators and then call prepare_dataset with normalize_to_vol_j=True."
   ]
  },
  {
   "cell_type": "markdown",
   "metadata": {},
   "source": [
    "We create the *BASIS* containing all information for the TensorFlow models:"
   ]
  },
  {
   "cell_type": "code",
   "execution_count": 44,
   "metadata": {},
   "outputs": [
    {
     "name": "stdout",
     "output_type": "stream",
     "text": [
      "DQDZB0\n",
      "DQDZF0\n",
      "QB0\n",
      "QF0\n",
      "NFOLD\n",
      "AMBIENT\n",
      "KMODULI\n",
      "NHYPER\n",
      "INTNUMS\n",
      "KAPPA\n"
     ]
    }
   ],
   "source": [
    "pgtoricmath.prepare_basis(dirname, kappa)\n",
    "with open(os.path.join(dirname, 'basis.pickle'), 'rb') as f:\n",
    "    basis = pickle.load(f)\n",
    "for key in basis:\n",
    "    print(key)"
   ]
  },
  {
   "cell_type": "markdown",
   "metadata": {},
   "source": [
    "## Final remarks"
   ]
  },
  {
   "cell_type": "markdown",
   "metadata": {},
   "source": [
    "In the next notebook we will load the *basis.pickle* and *toric_data.pickle* for the TensorFlow model. The information in *basis.pickle* will override what is written in *toric_data.pickle* so that the models know we want to work with the Fermat and not some generic quintic.\n",
    "\n",
    "We can also check if the points are all on the fermat:"
   ]
  },
  {
   "cell_type": "code",
   "execution_count": 45,
   "metadata": {
    "scrolled": true
   },
   "outputs": [],
   "source": [
    "data = np.load(os.path.join(dirname, 'dataset.npz'))\n",
    "points = data['X_val'][:,0:pg.ncoords]+1.j*data['X_val'][:,pg.ncoords:]"
   ]
  },
  {
   "cell_type": "markdown",
   "metadata": {},
   "source": [
    "using the regular *PointGenerator*"
   ]
  },
  {
   "cell_type": "code",
   "execution_count": 46,
   "metadata": {},
   "outputs": [
    {
     "data": {
      "text/plain": [
       "1.0"
      ]
     },
     "execution_count": 46,
     "metadata": {},
     "output_type": "execute_result"
    }
   ],
   "source": [
    "np.sum(np.isclose(np.abs(pg.cy_condition(points)), 0))/len(points)"
   ]
  },
  {
   "cell_type": "markdown",
   "metadata": {},
   "source": [
    "the CICY"
   ]
  },
  {
   "cell_type": "code",
   "execution_count": 47,
   "metadata": {},
   "outputs": [
    {
     "data": {
      "text/plain": [
       "1.0"
      ]
     },
     "execution_count": 47,
     "metadata": {},
     "output_type": "execute_result"
    }
   ],
   "source": [
    "np.sum(np.isclose(np.abs(pgcicy.cy_condition(points)), 0))/len(points)"
   ]
  },
  {
   "cell_type": "markdown",
   "metadata": {},
   "source": [
    "the Mathematica"
   ]
  },
  {
   "cell_type": "code",
   "execution_count": 48,
   "metadata": {},
   "outputs": [
    {
     "data": {
      "text/plain": [
       "1.0"
      ]
     },
     "execution_count": 48,
     "metadata": {},
     "output_type": "execute_result"
    }
   ],
   "source": [
    "np.sum(np.isclose(np.abs(pgmath.cy_condition(points)), 0))/len(points)"
   ]
  },
  {
   "cell_type": "markdown",
   "metadata": {},
   "source": [
    "the toric"
   ]
  },
  {
   "cell_type": "code",
   "execution_count": 49,
   "metadata": {
    "scrolled": true
   },
   "outputs": [
    {
     "data": {
      "text/plain": [
       "1.0"
      ]
     },
     "execution_count": 49,
     "metadata": {},
     "output_type": "execute_result"
    }
   ],
   "source": [
    "np.sum(np.isclose(np.abs(pgtoric.cy_condition(points)), 0))/len(points)"
   ]
  },
  {
   "cell_type": "markdown",
   "metadata": {},
   "source": [
    "and the toric mathematica point generators"
   ]
  },
  {
   "cell_type": "code",
   "execution_count": 50,
   "metadata": {},
   "outputs": [
    {
     "data": {
      "text/plain": [
       "1.0"
      ]
     },
     "execution_count": 50,
     "metadata": {},
     "output_type": "execute_result"
    }
   ],
   "source": [
    "np.sum(np.isclose(np.abs(pgtoricmath.cy_condition(points)), 0))/len(points)"
   ]
  }
 ],
 "metadata": {
  "kernelspec": {
   "display_name": "SageMath 10.4",
   "language": "sage",
   "name": "SageMath-10.4"
  },
  "language_info": {
   "codemirror_mode": {
    "name": "ipython",
    "version": 3
   },
   "file_extension": ".py",
   "mimetype": "text/x-python",
   "name": "python",
   "nbconvert_exporter": "python",
   "pygments_lexer": "ipython3",
   "version": "3.12.4"
  }
 },
 "nbformat": 4,
 "nbformat_minor": 4
}
